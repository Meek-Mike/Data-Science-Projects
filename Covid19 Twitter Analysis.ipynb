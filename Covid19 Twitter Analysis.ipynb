{
 "cells": [
  {
   "cell_type": "markdown",
   "metadata": {},
   "source": [
    "# COVID TWEET ANALYSIS"
   ]
  },
  {
   "cell_type": "markdown",
   "metadata": {},
   "source": [
    "This noted book contains analysis on coivd'19 tweets on twitter. A sentiment predicter model is built. \n",
    "Data sourced from kaggle\n",
    "\n",
    "I hope you will enjoy it. \n",
    "\n",
    "references:\n",
    "    "
   ]
  },
  {
   "cell_type": "markdown",
   "metadata": {},
   "source": [
    "## 1. Data Importation"
   ]
  },
  {
   "cell_type": "code",
   "execution_count": 1,
   "metadata": {},
   "outputs": [],
   "source": [
    "#Importing libraries\n",
    "import numpy as np\n",
    "import pandas as pd\n",
    "import re\n",
    "import string\n",
    "import nltk\n",
    "from nltk import sent_tokenize\n",
    "from nltk.tokenize import word_tokenize"
   ]
  },
  {
   "cell_type": "code",
   "execution_count": 2,
   "metadata": {},
   "outputs": [],
   "source": [
    "#Loading the Dataset\n",
    "\n",
    "train = pd.read_csv(r'C:\\Users\\User\\Desktop\\Data Analysis\\Data\\NLP\\Corona_NLP_train.csv', encoding='latin1') #training dataset\n",
    "test = pd.read_csv(r'C:\\Users\\User\\Desktop\\Data Analysis\\Data\\NLP\\Corona_NLP_test.csv', encoding='latin1') #testing dataset\n",
    "\n",
    "Data = pd.concat([train,test], axis = 0, join = 'inner',) #Merged Data"
   ]
  },
  {
   "cell_type": "code",
   "execution_count": 3,
   "metadata": {},
   "outputs": [
    {
     "data": {
      "text/html": [
       "<div>\n",
       "<style scoped>\n",
       "    .dataframe tbody tr th:only-of-type {\n",
       "        vertical-align: middle;\n",
       "    }\n",
       "\n",
       "    .dataframe tbody tr th {\n",
       "        vertical-align: top;\n",
       "    }\n",
       "\n",
       "    .dataframe thead th {\n",
       "        text-align: right;\n",
       "    }\n",
       "</style>\n",
       "<table border=\"1\" class=\"dataframe\">\n",
       "  <thead>\n",
       "    <tr style=\"text-align: right;\">\n",
       "      <th></th>\n",
       "      <th>UserName</th>\n",
       "      <th>ScreenName</th>\n",
       "      <th>Location</th>\n",
       "      <th>TweetAt</th>\n",
       "      <th>OriginalTweet</th>\n",
       "      <th>Sentiment</th>\n",
       "    </tr>\n",
       "  </thead>\n",
       "  <tbody>\n",
       "    <tr>\n",
       "      <th>0</th>\n",
       "      <td>3799</td>\n",
       "      <td>48751</td>\n",
       "      <td>London</td>\n",
       "      <td>16/03/2020</td>\n",
       "      <td>@MeNyrbie @Phil_Gahan @Chrisitv https://t.co/i...</td>\n",
       "      <td>Neutral</td>\n",
       "    </tr>\n",
       "    <tr>\n",
       "      <th>1</th>\n",
       "      <td>3800</td>\n",
       "      <td>48752</td>\n",
       "      <td>UK</td>\n",
       "      <td>16/03/2020</td>\n",
       "      <td>advice Talk to your neighbours family to excha...</td>\n",
       "      <td>Positive</td>\n",
       "    </tr>\n",
       "    <tr>\n",
       "      <th>2</th>\n",
       "      <td>3801</td>\n",
       "      <td>48753</td>\n",
       "      <td>Vagabonds</td>\n",
       "      <td>16/03/2020</td>\n",
       "      <td>Coronavirus Australia: Woolworths to give elde...</td>\n",
       "      <td>Positive</td>\n",
       "    </tr>\n",
       "    <tr>\n",
       "      <th>3</th>\n",
       "      <td>3802</td>\n",
       "      <td>48754</td>\n",
       "      <td>NaN</td>\n",
       "      <td>16/03/2020</td>\n",
       "      <td>My food stock is not the only one which is emp...</td>\n",
       "      <td>Positive</td>\n",
       "    </tr>\n",
       "    <tr>\n",
       "      <th>4</th>\n",
       "      <td>3803</td>\n",
       "      <td>48755</td>\n",
       "      <td>NaN</td>\n",
       "      <td>16/03/2020</td>\n",
       "      <td>Me, ready to go at supermarket during the #COV...</td>\n",
       "      <td>Extremely Negative</td>\n",
       "    </tr>\n",
       "    <tr>\n",
       "      <th>...</th>\n",
       "      <td>...</td>\n",
       "      <td>...</td>\n",
       "      <td>...</td>\n",
       "      <td>...</td>\n",
       "      <td>...</td>\n",
       "      <td>...</td>\n",
       "    </tr>\n",
       "    <tr>\n",
       "      <th>3793</th>\n",
       "      <td>3794</td>\n",
       "      <td>48746</td>\n",
       "      <td>Israel ??</td>\n",
       "      <td>16/03/2020</td>\n",
       "      <td>Meanwhile In A Supermarket in Israel -- People...</td>\n",
       "      <td>Positive</td>\n",
       "    </tr>\n",
       "    <tr>\n",
       "      <th>3794</th>\n",
       "      <td>3795</td>\n",
       "      <td>48747</td>\n",
       "      <td>Farmington, NM</td>\n",
       "      <td>16/03/2020</td>\n",
       "      <td>Did you panic buy a lot of non-perishable item...</td>\n",
       "      <td>Negative</td>\n",
       "    </tr>\n",
       "    <tr>\n",
       "      <th>3795</th>\n",
       "      <td>3796</td>\n",
       "      <td>48748</td>\n",
       "      <td>Haverford, PA</td>\n",
       "      <td>16/03/2020</td>\n",
       "      <td>Asst Prof of Economics @cconces was on @NBCPhi...</td>\n",
       "      <td>Neutral</td>\n",
       "    </tr>\n",
       "    <tr>\n",
       "      <th>3796</th>\n",
       "      <td>3797</td>\n",
       "      <td>48749</td>\n",
       "      <td>NaN</td>\n",
       "      <td>16/03/2020</td>\n",
       "      <td>Gov need to do somethings instead of biar je r...</td>\n",
       "      <td>Extremely Negative</td>\n",
       "    </tr>\n",
       "    <tr>\n",
       "      <th>3797</th>\n",
       "      <td>3798</td>\n",
       "      <td>48750</td>\n",
       "      <td>Arlington, Virginia</td>\n",
       "      <td>16/03/2020</td>\n",
       "      <td>I and @ForestandPaper members are committed to...</td>\n",
       "      <td>Extremely Positive</td>\n",
       "    </tr>\n",
       "  </tbody>\n",
       "</table>\n",
       "<p>44955 rows × 6 columns</p>\n",
       "</div>"
      ],
      "text/plain": [
       "      UserName  ScreenName             Location     TweetAt  \\\n",
       "0         3799       48751               London  16/03/2020   \n",
       "1         3800       48752                   UK  16/03/2020   \n",
       "2         3801       48753            Vagabonds  16/03/2020   \n",
       "3         3802       48754                  NaN  16/03/2020   \n",
       "4         3803       48755                  NaN  16/03/2020   \n",
       "...        ...         ...                  ...         ...   \n",
       "3793      3794       48746            Israel ??  16/03/2020   \n",
       "3794      3795       48747       Farmington, NM  16/03/2020   \n",
       "3795      3796       48748        Haverford, PA  16/03/2020   \n",
       "3796      3797       48749                  NaN  16/03/2020   \n",
       "3797      3798       48750  Arlington, Virginia  16/03/2020   \n",
       "\n",
       "                                          OriginalTweet           Sentiment  \n",
       "0     @MeNyrbie @Phil_Gahan @Chrisitv https://t.co/i...             Neutral  \n",
       "1     advice Talk to your neighbours family to excha...            Positive  \n",
       "2     Coronavirus Australia: Woolworths to give elde...            Positive  \n",
       "3     My food stock is not the only one which is emp...            Positive  \n",
       "4     Me, ready to go at supermarket during the #COV...  Extremely Negative  \n",
       "...                                                 ...                 ...  \n",
       "3793  Meanwhile In A Supermarket in Israel -- People...            Positive  \n",
       "3794  Did you panic buy a lot of non-perishable item...            Negative  \n",
       "3795  Asst Prof of Economics @cconces was on @NBCPhi...             Neutral  \n",
       "3796  Gov need to do somethings instead of biar je r...  Extremely Negative  \n",
       "3797  I and @ForestandPaper members are committed to...  Extremely Positive  \n",
       "\n",
       "[44955 rows x 6 columns]"
      ]
     },
     "execution_count": 3,
     "metadata": {},
     "output_type": "execute_result"
    }
   ],
   "source": [
    "#A Sample of the entire Dataset \n",
    "Data"
   ]
  },
  {
   "cell_type": "code",
   "execution_count": 4,
   "metadata": {},
   "outputs": [
    {
     "data": {
      "text/html": [
       "<div>\n",
       "<style scoped>\n",
       "    .dataframe tbody tr th:only-of-type {\n",
       "        vertical-align: middle;\n",
       "    }\n",
       "\n",
       "    .dataframe tbody tr th {\n",
       "        vertical-align: top;\n",
       "    }\n",
       "\n",
       "    .dataframe thead th {\n",
       "        text-align: right;\n",
       "    }\n",
       "</style>\n",
       "<table border=\"1\" class=\"dataframe\">\n",
       "  <thead>\n",
       "    <tr style=\"text-align: right;\">\n",
       "      <th></th>\n",
       "      <th>UserName</th>\n",
       "      <th>ScreenName</th>\n",
       "      <th>Location</th>\n",
       "      <th>TweetAt</th>\n",
       "      <th>OriginalTweet</th>\n",
       "      <th>Sentiment</th>\n",
       "    </tr>\n",
       "  </thead>\n",
       "  <tbody>\n",
       "    <tr>\n",
       "      <th>0</th>\n",
       "      <td>3799</td>\n",
       "      <td>48751</td>\n",
       "      <td>London</td>\n",
       "      <td>16/03/2020</td>\n",
       "      <td>@MeNyrbie @Phil_Gahan @Chrisitv https://t.co/i...</td>\n",
       "      <td>Neutral</td>\n",
       "    </tr>\n",
       "    <tr>\n",
       "      <th>1</th>\n",
       "      <td>3800</td>\n",
       "      <td>48752</td>\n",
       "      <td>UK</td>\n",
       "      <td>16/03/2020</td>\n",
       "      <td>advice Talk to your neighbours family to excha...</td>\n",
       "      <td>Positive</td>\n",
       "    </tr>\n",
       "    <tr>\n",
       "      <th>2</th>\n",
       "      <td>3801</td>\n",
       "      <td>48753</td>\n",
       "      <td>Vagabonds</td>\n",
       "      <td>16/03/2020</td>\n",
       "      <td>Coronavirus Australia: Woolworths to give elde...</td>\n",
       "      <td>Positive</td>\n",
       "    </tr>\n",
       "    <tr>\n",
       "      <th>3</th>\n",
       "      <td>3802</td>\n",
       "      <td>48754</td>\n",
       "      <td>NaN</td>\n",
       "      <td>16/03/2020</td>\n",
       "      <td>My food stock is not the only one which is emp...</td>\n",
       "      <td>Positive</td>\n",
       "    </tr>\n",
       "    <tr>\n",
       "      <th>4</th>\n",
       "      <td>3803</td>\n",
       "      <td>48755</td>\n",
       "      <td>NaN</td>\n",
       "      <td>16/03/2020</td>\n",
       "      <td>Me, ready to go at supermarket during the #COV...</td>\n",
       "      <td>Extremely Negative</td>\n",
       "    </tr>\n",
       "  </tbody>\n",
       "</table>\n",
       "</div>"
      ],
      "text/plain": [
       "   UserName  ScreenName   Location     TweetAt  \\\n",
       "0      3799       48751     London  16/03/2020   \n",
       "1      3800       48752         UK  16/03/2020   \n",
       "2      3801       48753  Vagabonds  16/03/2020   \n",
       "3      3802       48754        NaN  16/03/2020   \n",
       "4      3803       48755        NaN  16/03/2020   \n",
       "\n",
       "                                       OriginalTweet           Sentiment  \n",
       "0  @MeNyrbie @Phil_Gahan @Chrisitv https://t.co/i...             Neutral  \n",
       "1  advice Talk to your neighbours family to excha...            Positive  \n",
       "2  Coronavirus Australia: Woolworths to give elde...            Positive  \n",
       "3  My food stock is not the only one which is emp...            Positive  \n",
       "4  Me, ready to go at supermarket during the #COV...  Extremely Negative  "
      ]
     },
     "execution_count": 4,
     "metadata": {},
     "output_type": "execute_result"
    }
   ],
   "source": [
    "#Smaple of traing Dataset: data used to train the model\n",
    "train.head()"
   ]
  },
  {
   "cell_type": "code",
   "execution_count": 6,
   "metadata": {},
   "outputs": [
    {
     "data": {
      "text/html": [
       "<div>\n",
       "<style scoped>\n",
       "    .dataframe tbody tr th:only-of-type {\n",
       "        vertical-align: middle;\n",
       "    }\n",
       "\n",
       "    .dataframe tbody tr th {\n",
       "        vertical-align: top;\n",
       "    }\n",
       "\n",
       "    .dataframe thead th {\n",
       "        text-align: right;\n",
       "    }\n",
       "</style>\n",
       "<table border=\"1\" class=\"dataframe\">\n",
       "  <thead>\n",
       "    <tr style=\"text-align: right;\">\n",
       "      <th></th>\n",
       "      <th>UserName</th>\n",
       "      <th>ScreenName</th>\n",
       "      <th>Location</th>\n",
       "      <th>TweetAt</th>\n",
       "      <th>OriginalTweet</th>\n",
       "      <th>Sentiment</th>\n",
       "    </tr>\n",
       "  </thead>\n",
       "  <tbody>\n",
       "    <tr>\n",
       "      <th>0</th>\n",
       "      <td>1</td>\n",
       "      <td>44953</td>\n",
       "      <td>NYC</td>\n",
       "      <td>02/03/2020</td>\n",
       "      <td>TRENDING: New Yorkers encounter empty supermar...</td>\n",
       "      <td>Extremely Negative</td>\n",
       "    </tr>\n",
       "    <tr>\n",
       "      <th>1</th>\n",
       "      <td>2</td>\n",
       "      <td>44954</td>\n",
       "      <td>Seattle, WA</td>\n",
       "      <td>02/03/2020</td>\n",
       "      <td>When I couldn't find hand sanitizer at Fred Me...</td>\n",
       "      <td>Positive</td>\n",
       "    </tr>\n",
       "    <tr>\n",
       "      <th>2</th>\n",
       "      <td>3</td>\n",
       "      <td>44955</td>\n",
       "      <td>NaN</td>\n",
       "      <td>02/03/2020</td>\n",
       "      <td>Find out how you can protect yourself and love...</td>\n",
       "      <td>Extremely Positive</td>\n",
       "    </tr>\n",
       "    <tr>\n",
       "      <th>3</th>\n",
       "      <td>4</td>\n",
       "      <td>44956</td>\n",
       "      <td>Chicagoland</td>\n",
       "      <td>02/03/2020</td>\n",
       "      <td>#Panic buying hits #NewYork City as anxious sh...</td>\n",
       "      <td>Negative</td>\n",
       "    </tr>\n",
       "    <tr>\n",
       "      <th>4</th>\n",
       "      <td>5</td>\n",
       "      <td>44957</td>\n",
       "      <td>Melbourne, Victoria</td>\n",
       "      <td>03/03/2020</td>\n",
       "      <td>#toiletpaper #dunnypaper #coronavirus #coronav...</td>\n",
       "      <td>Neutral</td>\n",
       "    </tr>\n",
       "  </tbody>\n",
       "</table>\n",
       "</div>"
      ],
      "text/plain": [
       "   UserName  ScreenName             Location     TweetAt  \\\n",
       "0         1       44953                  NYC  02/03/2020   \n",
       "1         2       44954          Seattle, WA  02/03/2020   \n",
       "2         3       44955                  NaN  02/03/2020   \n",
       "3         4       44956          Chicagoland  02/03/2020   \n",
       "4         5       44957  Melbourne, Victoria  03/03/2020   \n",
       "\n",
       "                                       OriginalTweet           Sentiment  \n",
       "0  TRENDING: New Yorkers encounter empty supermar...  Extremely Negative  \n",
       "1  When I couldn't find hand sanitizer at Fred Me...            Positive  \n",
       "2  Find out how you can protect yourself and love...  Extremely Positive  \n",
       "3  #Panic buying hits #NewYork City as anxious sh...            Negative  \n",
       "4  #toiletpaper #dunnypaper #coronavirus #coronav...             Neutral  "
      ]
     },
     "execution_count": 6,
     "metadata": {},
     "output_type": "execute_result"
    }
   ],
   "source": [
    "#Sample of test Dataset: data used to test the model\n",
    "test.head()"
   ]
  },
  {
   "cell_type": "code",
   "execution_count": 7,
   "metadata": {},
   "outputs": [
    {
     "data": {
      "text/plain": [
       "'Coronavirus Australia: Woolworths to give elderly, disabled dedicated shopping hours amid COVID-19 outbreak https://t.co/bInCA9Vp8P'"
      ]
     },
     "execution_count": 7,
     "metadata": {},
     "output_type": "execute_result"
    }
   ],
   "source": [
    "#A random tweet in the dataset\n",
    "train['OriginalTweet'][2]"
   ]
  },
  {
   "cell_type": "code",
   "execution_count": 8,
   "metadata": {},
   "outputs": [
    {
     "name": "stdout",
     "output_type": "stream",
     "text": [
      "<class 'pandas.core.frame.DataFrame'>\n",
      "RangeIndex: 41157 entries, 0 to 41156\n",
      "Data columns (total 6 columns):\n",
      " #   Column         Non-Null Count  Dtype \n",
      "---  ------         --------------  ----- \n",
      " 0   UserName       41157 non-null  int64 \n",
      " 1   ScreenName     41157 non-null  int64 \n",
      " 2   Location       32567 non-null  object\n",
      " 3   TweetAt        41157 non-null  object\n",
      " 4   OriginalTweet  41157 non-null  object\n",
      " 5   Sentiment      41157 non-null  object\n",
      "dtypes: int64(2), object(4)\n",
      "memory usage: 1.9+ MB\n"
     ]
    }
   ],
   "source": [
    "#Information on the training Dataset\n",
    "train.info()"
   ]
  },
  {
   "cell_type": "markdown",
   "metadata": {},
   "source": [
    "The UserName and ScreenName are the only integers (numerics),the rest are objective (alphabets)"
   ]
  },
  {
   "cell_type": "code",
   "execution_count": 9,
   "metadata": {},
   "outputs": [
    {
     "data": {
      "text/html": [
       "<div>\n",
       "<style scoped>\n",
       "    .dataframe tbody tr th:only-of-type {\n",
       "        vertical-align: middle;\n",
       "    }\n",
       "\n",
       "    .dataframe tbody tr th {\n",
       "        vertical-align: top;\n",
       "    }\n",
       "\n",
       "    .dataframe thead th {\n",
       "        text-align: right;\n",
       "    }\n",
       "</style>\n",
       "<table border=\"1\" class=\"dataframe\">\n",
       "  <thead>\n",
       "    <tr style=\"text-align: right;\">\n",
       "      <th></th>\n",
       "      <th>UserName</th>\n",
       "      <th>ScreenName</th>\n",
       "    </tr>\n",
       "  </thead>\n",
       "  <tbody>\n",
       "    <tr>\n",
       "      <th>count</th>\n",
       "      <td>41157.000000</td>\n",
       "      <td>41157.000000</td>\n",
       "    </tr>\n",
       "    <tr>\n",
       "      <th>mean</th>\n",
       "      <td>24377.000000</td>\n",
       "      <td>69329.000000</td>\n",
       "    </tr>\n",
       "    <tr>\n",
       "      <th>std</th>\n",
       "      <td>11881.146851</td>\n",
       "      <td>11881.146851</td>\n",
       "    </tr>\n",
       "    <tr>\n",
       "      <th>min</th>\n",
       "      <td>3799.000000</td>\n",
       "      <td>48751.000000</td>\n",
       "    </tr>\n",
       "    <tr>\n",
       "      <th>25%</th>\n",
       "      <td>14088.000000</td>\n",
       "      <td>59040.000000</td>\n",
       "    </tr>\n",
       "    <tr>\n",
       "      <th>50%</th>\n",
       "      <td>24377.000000</td>\n",
       "      <td>69329.000000</td>\n",
       "    </tr>\n",
       "    <tr>\n",
       "      <th>75%</th>\n",
       "      <td>34666.000000</td>\n",
       "      <td>79618.000000</td>\n",
       "    </tr>\n",
       "    <tr>\n",
       "      <th>max</th>\n",
       "      <td>44955.000000</td>\n",
       "      <td>89907.000000</td>\n",
       "    </tr>\n",
       "  </tbody>\n",
       "</table>\n",
       "</div>"
      ],
      "text/plain": [
       "           UserName    ScreenName\n",
       "count  41157.000000  41157.000000\n",
       "mean   24377.000000  69329.000000\n",
       "std    11881.146851  11881.146851\n",
       "min     3799.000000  48751.000000\n",
       "25%    14088.000000  59040.000000\n",
       "50%    24377.000000  69329.000000\n",
       "75%    34666.000000  79618.000000\n",
       "max    44955.000000  89907.000000"
      ]
     },
     "execution_count": 9,
     "metadata": {},
     "output_type": "execute_result"
    }
   ],
   "source": [
    "# train Dataset description\n",
    "train.describe()"
   ]
  },
  {
   "cell_type": "markdown",
   "metadata": {},
   "source": [
    "UserName and ScreenName being the only numerical variable were described. the numerical variables represents twitter usersnames and screenname for pivacy reasons"
   ]
  },
  {
   "cell_type": "code",
   "execution_count": 10,
   "metadata": {},
   "outputs": [],
   "source": [
    "#Converting Tweets to strings\n",
    "\n",
    "train['Text'] = train.OriginalTweet\n",
    "train['Text'] = train['Text'].astype(str)\n",
    "\n",
    "test['Text'] = test.OriginalTweet\n",
    "test['Text'] = test['Text'].astype(str)"
   ]
  },
  {
   "cell_type": "code",
   "execution_count": 11,
   "metadata": {},
   "outputs": [
    {
     "name": "stdout",
     "output_type": "stream",
     "text": [
      "Shape of train dataset: (41157, 7)\n",
      "Shape of test dataset: (3798, 7)\n"
     ]
    }
   ],
   "source": [
    "#Shape of dataset\n",
    "print('Shape of train dataset: {}'.format(train.shape))\n",
    "print('Shape of test dataset: {}'.format(test.shape))"
   ]
  },
  {
   "cell_type": "markdown",
   "metadata": {},
   "source": [
    "The train data has 41157 rows, whiles test dataset has 3798. Both datast has same number of columns"
   ]
  },
  {
   "cell_type": "code",
   "execution_count": 12,
   "metadata": {},
   "outputs": [
    {
     "data": {
      "text/plain": [
       "Index(['UserName', 'ScreenName', 'Location', 'TweetAt', 'OriginalTweet',\n",
       "       'Sentiment', 'Text'],\n",
       "      dtype='object')"
      ]
     },
     "execution_count": 12,
     "metadata": {},
     "output_type": "execute_result"
    }
   ],
   "source": [
    "#The variouse variable in the train data\n",
    "train.keys()"
   ]
  },
  {
   "cell_type": "code",
   "execution_count": 13,
   "metadata": {},
   "outputs": [
    {
     "name": "stdout",
     "output_type": "stream",
     "text": [
      "The columns of the dataset Index(['UserName', 'ScreenName', 'Location', 'TweetAt', 'OriginalTweet',\n",
      "       'Sentiment'],\n",
      "      dtype='object')\n"
     ]
    }
   ],
   "source": [
    "#Checking for variables in the data\n",
    "print('The columns of the dataset {}'.format(Data.keys()))"
   ]
  },
  {
   "cell_type": "markdown",
   "metadata": {},
   "source": [
    "### Data Visualisation"
   ]
  },
  {
   "cell_type": "code",
   "execution_count": 14,
   "metadata": {},
   "outputs": [],
   "source": [
    "#import libraries for data visualisation\n",
    "import seaborn as sns\n",
    "from matplotlib import pyplot as plt\n",
    "%matplotlib inline"
   ]
  },
  {
   "cell_type": "markdown",
   "metadata": {},
   "source": [
    "#### LENGTH OF TWEET"
   ]
  },
  {
   "cell_type": "code",
   "execution_count": 15,
   "metadata": {},
   "outputs": [
    {
     "data": {
      "text/html": [
       "<div>\n",
       "<style scoped>\n",
       "    .dataframe tbody tr th:only-of-type {\n",
       "        vertical-align: middle;\n",
       "    }\n",
       "\n",
       "    .dataframe tbody tr th {\n",
       "        vertical-align: top;\n",
       "    }\n",
       "\n",
       "    .dataframe thead th {\n",
       "        text-align: right;\n",
       "    }\n",
       "</style>\n",
       "<table border=\"1\" class=\"dataframe\">\n",
       "  <thead>\n",
       "    <tr style=\"text-align: right;\">\n",
       "      <th></th>\n",
       "      <th>UserName</th>\n",
       "      <th>ScreenName</th>\n",
       "      <th>Location</th>\n",
       "      <th>TweetAt</th>\n",
       "      <th>OriginalTweet</th>\n",
       "      <th>Sentiment</th>\n",
       "      <th>Text</th>\n",
       "      <th>Length</th>\n",
       "    </tr>\n",
       "  </thead>\n",
       "  <tbody>\n",
       "    <tr>\n",
       "      <th>0</th>\n",
       "      <td>3799</td>\n",
       "      <td>48751</td>\n",
       "      <td>London</td>\n",
       "      <td>16/03/2020</td>\n",
       "      <td>@MeNyrbie @Phil_Gahan @Chrisitv https://t.co/i...</td>\n",
       "      <td>Neutral</td>\n",
       "      <td>@MeNyrbie @Phil_Gahan @Chrisitv https://t.co/i...</td>\n",
       "      <td>111</td>\n",
       "    </tr>\n",
       "    <tr>\n",
       "      <th>1</th>\n",
       "      <td>3800</td>\n",
       "      <td>48752</td>\n",
       "      <td>UK</td>\n",
       "      <td>16/03/2020</td>\n",
       "      <td>advice Talk to your neighbours family to excha...</td>\n",
       "      <td>Positive</td>\n",
       "      <td>advice Talk to your neighbours family to excha...</td>\n",
       "      <td>237</td>\n",
       "    </tr>\n",
       "    <tr>\n",
       "      <th>2</th>\n",
       "      <td>3801</td>\n",
       "      <td>48753</td>\n",
       "      <td>Vagabonds</td>\n",
       "      <td>16/03/2020</td>\n",
       "      <td>Coronavirus Australia: Woolworths to give elde...</td>\n",
       "      <td>Positive</td>\n",
       "      <td>Coronavirus Australia: Woolworths to give elde...</td>\n",
       "      <td>131</td>\n",
       "    </tr>\n",
       "    <tr>\n",
       "      <th>3</th>\n",
       "      <td>3802</td>\n",
       "      <td>48754</td>\n",
       "      <td>NaN</td>\n",
       "      <td>16/03/2020</td>\n",
       "      <td>My food stock is not the only one which is emp...</td>\n",
       "      <td>Positive</td>\n",
       "      <td>My food stock is not the only one which is emp...</td>\n",
       "      <td>306</td>\n",
       "    </tr>\n",
       "    <tr>\n",
       "      <th>4</th>\n",
       "      <td>3803</td>\n",
       "      <td>48755</td>\n",
       "      <td>NaN</td>\n",
       "      <td>16/03/2020</td>\n",
       "      <td>Me, ready to go at supermarket during the #COV...</td>\n",
       "      <td>Extremely Negative</td>\n",
       "      <td>Me, ready to go at supermarket during the #COV...</td>\n",
       "      <td>310</td>\n",
       "    </tr>\n",
       "    <tr>\n",
       "      <th>...</th>\n",
       "      <td>...</td>\n",
       "      <td>...</td>\n",
       "      <td>...</td>\n",
       "      <td>...</td>\n",
       "      <td>...</td>\n",
       "      <td>...</td>\n",
       "      <td>...</td>\n",
       "      <td>...</td>\n",
       "    </tr>\n",
       "    <tr>\n",
       "      <th>41152</th>\n",
       "      <td>44951</td>\n",
       "      <td>89903</td>\n",
       "      <td>Wellington City, New Zealand</td>\n",
       "      <td>14/04/2020</td>\n",
       "      <td>Airline pilots offering to stock supermarket s...</td>\n",
       "      <td>Neutral</td>\n",
       "      <td>Airline pilots offering to stock supermarket s...</td>\n",
       "      <td>102</td>\n",
       "    </tr>\n",
       "    <tr>\n",
       "      <th>41153</th>\n",
       "      <td>44952</td>\n",
       "      <td>89904</td>\n",
       "      <td>NaN</td>\n",
       "      <td>14/04/2020</td>\n",
       "      <td>Response to complaint not provided citing COVI...</td>\n",
       "      <td>Extremely Negative</td>\n",
       "      <td>Response to complaint not provided citing COVI...</td>\n",
       "      <td>138</td>\n",
       "    </tr>\n",
       "    <tr>\n",
       "      <th>41154</th>\n",
       "      <td>44953</td>\n",
       "      <td>89905</td>\n",
       "      <td>NaN</td>\n",
       "      <td>14/04/2020</td>\n",
       "      <td>You know itÂs getting tough when @KameronWild...</td>\n",
       "      <td>Positive</td>\n",
       "      <td>You know itÂs getting tough when @KameronWild...</td>\n",
       "      <td>136</td>\n",
       "    </tr>\n",
       "    <tr>\n",
       "      <th>41155</th>\n",
       "      <td>44954</td>\n",
       "      <td>89906</td>\n",
       "      <td>NaN</td>\n",
       "      <td>14/04/2020</td>\n",
       "      <td>Is it wrong that the smell of hand sanitizer i...</td>\n",
       "      <td>Neutral</td>\n",
       "      <td>Is it wrong that the smell of hand sanitizer i...</td>\n",
       "      <td>111</td>\n",
       "    </tr>\n",
       "    <tr>\n",
       "      <th>41156</th>\n",
       "      <td>44955</td>\n",
       "      <td>89907</td>\n",
       "      <td>i love you so much || he/him</td>\n",
       "      <td>14/04/2020</td>\n",
       "      <td>@TartiiCat Well new/used Rift S are going for ...</td>\n",
       "      <td>Negative</td>\n",
       "      <td>@TartiiCat Well new/used Rift S are going for ...</td>\n",
       "      <td>255</td>\n",
       "    </tr>\n",
       "  </tbody>\n",
       "</table>\n",
       "<p>41157 rows × 8 columns</p>\n",
       "</div>"
      ],
      "text/plain": [
       "       UserName  ScreenName                      Location     TweetAt  \\\n",
       "0          3799       48751                        London  16/03/2020   \n",
       "1          3800       48752                            UK  16/03/2020   \n",
       "2          3801       48753                     Vagabonds  16/03/2020   \n",
       "3          3802       48754                           NaN  16/03/2020   \n",
       "4          3803       48755                           NaN  16/03/2020   \n",
       "...         ...         ...                           ...         ...   \n",
       "41152     44951       89903  Wellington City, New Zealand  14/04/2020   \n",
       "41153     44952       89904                           NaN  14/04/2020   \n",
       "41154     44953       89905                           NaN  14/04/2020   \n",
       "41155     44954       89906                           NaN  14/04/2020   \n",
       "41156     44955       89907  i love you so much || he/him  14/04/2020   \n",
       "\n",
       "                                           OriginalTweet           Sentiment  \\\n",
       "0      @MeNyrbie @Phil_Gahan @Chrisitv https://t.co/i...             Neutral   \n",
       "1      advice Talk to your neighbours family to excha...            Positive   \n",
       "2      Coronavirus Australia: Woolworths to give elde...            Positive   \n",
       "3      My food stock is not the only one which is emp...            Positive   \n",
       "4      Me, ready to go at supermarket during the #COV...  Extremely Negative   \n",
       "...                                                  ...                 ...   \n",
       "41152  Airline pilots offering to stock supermarket s...             Neutral   \n",
       "41153  Response to complaint not provided citing COVI...  Extremely Negative   \n",
       "41154  You know itÂs getting tough when @KameronWild...            Positive   \n",
       "41155  Is it wrong that the smell of hand sanitizer i...             Neutral   \n",
       "41156  @TartiiCat Well new/used Rift S are going for ...            Negative   \n",
       "\n",
       "                                                    Text  Length  \n",
       "0      @MeNyrbie @Phil_Gahan @Chrisitv https://t.co/i...     111  \n",
       "1      advice Talk to your neighbours family to excha...     237  \n",
       "2      Coronavirus Australia: Woolworths to give elde...     131  \n",
       "3      My food stock is not the only one which is emp...     306  \n",
       "4      Me, ready to go at supermarket during the #COV...     310  \n",
       "...                                                  ...     ...  \n",
       "41152  Airline pilots offering to stock supermarket s...     102  \n",
       "41153  Response to complaint not provided citing COVI...     138  \n",
       "41154  You know itÂs getting tough when @KameronWild...     136  \n",
       "41155  Is it wrong that the smell of hand sanitizer i...     111  \n",
       "41156  @TartiiCat Well new/used Rift S are going for ...     255  \n",
       "\n",
       "[41157 rows x 8 columns]"
      ]
     },
     "execution_count": 15,
     "metadata": {},
     "output_type": "execute_result"
    }
   ],
   "source": [
    "#Getting the length of the tweets\n",
    "train['Length'] = train['OriginalTweet'].apply(len)\n",
    "train"
   ]
  },
  {
   "cell_type": "markdown",
   "metadata": {},
   "source": [
    "A new columns is created to contain length of every tweets"
   ]
  },
  {
   "cell_type": "code",
   "execution_count": 18,
   "metadata": {},
   "outputs": [
    {
     "data": {
      "text/plain": [
       "count    41157.000000\n",
       "mean       204.200160\n",
       "std         68.655129\n",
       "min         11.000000\n",
       "25%        151.000000\n",
       "50%        215.000000\n",
       "75%        259.000000\n",
       "max        355.000000\n",
       "Name: Length, dtype: float64"
      ]
     },
     "execution_count": 18,
     "metadata": {},
     "output_type": "execute_result"
    }
   ],
   "source": [
    "#Description of length of tweets\n",
    "train['Length'].describe()"
   ]
  },
  {
   "cell_type": "code",
   "execution_count": null,
   "metadata": {},
   "outputs": [],
   "source": []
  },
  {
   "cell_type": "code",
   "execution_count": 18,
   "metadata": {},
   "outputs": [
    {
     "name": "stdout",
     "output_type": "stream",
     "text": [
      "Least Tweets with length 11\n"
     ]
    },
    {
     "data": {
      "text/plain": [
       "9776     Be like Bob\n",
       "16872    Cartoon for\n",
       "20467    Omg y all  \n",
       "35526          amp  \n",
       "Name: OriginalTweet, dtype: object"
      ]
     },
     "execution_count": 18,
     "metadata": {},
     "output_type": "execute_result"
    }
   ],
   "source": [
    "#Least lengthy tweet\n",
    "\n",
    "print('Least Tweets with length 11')\n",
    "train[train['Length']==11]['OriginalTweet']"
   ]
  },
  {
   "cell_type": "markdown",
   "metadata": {},
   "source": [
    "We found out the least lengthy tweets were three. Interestingly spaces within the spaces are counted as length. The first tweet\n",
    "has three(3) words with nine(9) letters and two spaces making eleven(11) length"
   ]
  },
  {
   "cell_type": "code",
   "execution_count": 19,
   "metadata": {},
   "outputs": [
    {
     "name": "stdout",
     "output_type": "stream",
     "text": [
      "Most lengthy tweets 355\n"
     ]
    },
    {
     "data": {
      "text/plain": [
       "'Crude oil dropped to its lowest in 17 years in Asia as #coronavirus in #US and #EU shows little sign of slowing.\\r\\r\\n\\r\\r\\nNoon prices:\\r\\r\\n#SPX500Â\\x962504.3\\r\\r\\n#NAS100Â\\x967507.1\\r\\r\\n#WTIÂ\\x9620.24\\r\\r\\n#GOLDÂ\\x961618.08\\r\\r\\n#SILVERÂ\\x9614.118\\r\\r\\n\\r\\r\\nWatch these prices closely: https://t.co/WuiEEfSNOj\\r\\r\\n\\r\\r\\n#COVID19 #CoronaVirusOutbreak https://t.co/j68MZIDXAd https://t.co/9MyqGxutUU'"
      ]
     },
     "execution_count": 19,
     "metadata": {},
     "output_type": "execute_result"
    }
   ],
   "source": [
    "#Most Lengthy tweet\n",
    "print('Most lengthy tweets 355')\n",
    "train[train['Length']==355]['OriginalTweet'].iloc[0]"
   ]
  },
  {
   "cell_type": "code",
   "execution_count": 20,
   "metadata": {},
   "outputs": [
    {
     "data": {
      "text/plain": [
       "Text(0.5, 1.0, 'Distribution of Length')"
      ]
     },
     "execution_count": 20,
     "metadata": {},
     "output_type": "execute_result"
    },
    {
     "data": {
      "image/png": "[encoded data removed]",
      "text/plain": [
       "<Figure size 432x288 with 1 Axes>"
      ]
     },
     "metadata": {
      "needs_background": "light"
     },
     "output_type": "display_data"
    }
   ],
   "source": [
    "#Visualisation of length distribution\n",
    "sns.kdeplot(data = train['Length'],shade = True, color = 'b',).set_title('Distribution of Length')"
   ]
  },
  {
   "cell_type": "markdown",
   "metadata": {},
   "source": [
    "The length is distributed around. Meaning most of the tweets had length around 200 and 350"
   ]
  },
  {
   "cell_type": "code",
   "execution_count": 21,
   "metadata": {},
   "outputs": [
    {
     "data": {
      "text/plain": [
       "array([[<matplotlib.axes._subplots.AxesSubplot object at 0x000002136CDE2188>,\n",
       "        <matplotlib.axes._subplots.AxesSubplot object at 0x000002136CE6BFC8>],\n",
       "       [<matplotlib.axes._subplots.AxesSubplot object at 0x000002136CEA7808>,\n",
       "        <matplotlib.axes._subplots.AxesSubplot object at 0x000002136CEDEF88>],\n",
       "       [<matplotlib.axes._subplots.AxesSubplot object at 0x000002136CF17E08>,\n",
       "        <matplotlib.axes._subplots.AxesSubplot object at 0x000002136CF52C48>]],\n",
       "      dtype=object)"
      ]
     },
     "execution_count": 21,
     "metadata": {},
     "output_type": "execute_result"
    },
    {
     "data": {
      "text/plain": [
       "<Figure size 864x432 with 0 Axes>"
      ]
     },
     "metadata": {},
     "output_type": "display_data"
    },
    {
     "data": {
      "image/png": "[encoded data removed]",
      "text/plain": [
       "<Figure size 432x288 with 6 Axes>"
      ]
     },
     "metadata": {
      "needs_background": "light"
     },
     "output_type": "display_data"
    }
   ],
   "source": [
    "#The distribution of length among the sentiments\n",
    "plt.figure(figsize=(12,6))\n",
    "train.hist(column = 'Length', by = 'Sentiment',color = 'b')"
   ]
  },
  {
   "cell_type": "markdown",
   "metadata": {},
   "source": [
    "The distrbution for most of the sentiment looks skewed towards the right except Neutral."
   ]
  },
  {
   "cell_type": "code",
   "execution_count": 22,
   "metadata": {},
   "outputs": [
    {
     "data": {
      "text/html": [
       "<div>\n",
       "<style scoped>\n",
       "    .dataframe tbody tr th:only-of-type {\n",
       "        vertical-align: middle;\n",
       "    }\n",
       "\n",
       "    .dataframe tbody tr th {\n",
       "        vertical-align: top;\n",
       "    }\n",
       "\n",
       "    .dataframe thead th {\n",
       "        text-align: right;\n",
       "    }\n",
       "</style>\n",
       "<table border=\"1\" class=\"dataframe\">\n",
       "  <thead>\n",
       "    <tr style=\"text-align: right;\">\n",
       "      <th></th>\n",
       "      <th>UserName</th>\n",
       "      <th>ScreenName</th>\n",
       "      <th>Location</th>\n",
       "      <th>TweetAt</th>\n",
       "      <th>OriginalTweet</th>\n",
       "      <th>Sentiment</th>\n",
       "    </tr>\n",
       "  </thead>\n",
       "  <tbody>\n",
       "    <tr>\n",
       "      <th>0</th>\n",
       "      <td>3799</td>\n",
       "      <td>48751</td>\n",
       "      <td>London</td>\n",
       "      <td>16/03/2020</td>\n",
       "      <td>@MeNyrbie @Phil_Gahan @Chrisitv https://t.co/i...</td>\n",
       "      <td>Neutral</td>\n",
       "    </tr>\n",
       "    <tr>\n",
       "      <th>1</th>\n",
       "      <td>3800</td>\n",
       "      <td>48752</td>\n",
       "      <td>UK</td>\n",
       "      <td>16/03/2020</td>\n",
       "      <td>advice Talk to your neighbours family to excha...</td>\n",
       "      <td>Positive</td>\n",
       "    </tr>\n",
       "    <tr>\n",
       "      <th>2</th>\n",
       "      <td>3801</td>\n",
       "      <td>48753</td>\n",
       "      <td>Vagabonds</td>\n",
       "      <td>16/03/2020</td>\n",
       "      <td>Coronavirus Australia: Woolworths to give elde...</td>\n",
       "      <td>Positive</td>\n",
       "    </tr>\n",
       "    <tr>\n",
       "      <th>3</th>\n",
       "      <td>3802</td>\n",
       "      <td>48754</td>\n",
       "      <td>NaN</td>\n",
       "      <td>16/03/2020</td>\n",
       "      <td>My food stock is not the only one which is emp...</td>\n",
       "      <td>Positive</td>\n",
       "    </tr>\n",
       "    <tr>\n",
       "      <th>4</th>\n",
       "      <td>3803</td>\n",
       "      <td>48755</td>\n",
       "      <td>NaN</td>\n",
       "      <td>16/03/2020</td>\n",
       "      <td>Me, ready to go at supermarket during the #COV...</td>\n",
       "      <td>Extremely Negative</td>\n",
       "    </tr>\n",
       "    <tr>\n",
       "      <th>...</th>\n",
       "      <td>...</td>\n",
       "      <td>...</td>\n",
       "      <td>...</td>\n",
       "      <td>...</td>\n",
       "      <td>...</td>\n",
       "      <td>...</td>\n",
       "    </tr>\n",
       "    <tr>\n",
       "      <th>3793</th>\n",
       "      <td>3794</td>\n",
       "      <td>48746</td>\n",
       "      <td>Israel ??</td>\n",
       "      <td>16/03/2020</td>\n",
       "      <td>Meanwhile In A Supermarket in Israel -- People...</td>\n",
       "      <td>Positive</td>\n",
       "    </tr>\n",
       "    <tr>\n",
       "      <th>3794</th>\n",
       "      <td>3795</td>\n",
       "      <td>48747</td>\n",
       "      <td>Farmington, NM</td>\n",
       "      <td>16/03/2020</td>\n",
       "      <td>Did you panic buy a lot of non-perishable item...</td>\n",
       "      <td>Negative</td>\n",
       "    </tr>\n",
       "    <tr>\n",
       "      <th>3795</th>\n",
       "      <td>3796</td>\n",
       "      <td>48748</td>\n",
       "      <td>Haverford, PA</td>\n",
       "      <td>16/03/2020</td>\n",
       "      <td>Asst Prof of Economics @cconces was on @NBCPhi...</td>\n",
       "      <td>Neutral</td>\n",
       "    </tr>\n",
       "    <tr>\n",
       "      <th>3796</th>\n",
       "      <td>3797</td>\n",
       "      <td>48749</td>\n",
       "      <td>NaN</td>\n",
       "      <td>16/03/2020</td>\n",
       "      <td>Gov need to do somethings instead of biar je r...</td>\n",
       "      <td>Extremely Negative</td>\n",
       "    </tr>\n",
       "    <tr>\n",
       "      <th>3797</th>\n",
       "      <td>3798</td>\n",
       "      <td>48750</td>\n",
       "      <td>Arlington, Virginia</td>\n",
       "      <td>16/03/2020</td>\n",
       "      <td>I and @ForestandPaper members are committed to...</td>\n",
       "      <td>Extremely Positive</td>\n",
       "    </tr>\n",
       "  </tbody>\n",
       "</table>\n",
       "<p>44955 rows × 6 columns</p>\n",
       "</div>"
      ],
      "text/plain": [
       "      UserName  ScreenName             Location     TweetAt  \\\n",
       "0         3799       48751               London  16/03/2020   \n",
       "1         3800       48752                   UK  16/03/2020   \n",
       "2         3801       48753            Vagabonds  16/03/2020   \n",
       "3         3802       48754                  NaN  16/03/2020   \n",
       "4         3803       48755                  NaN  16/03/2020   \n",
       "...        ...         ...                  ...         ...   \n",
       "3793      3794       48746            Israel ??  16/03/2020   \n",
       "3794      3795       48747       Farmington, NM  16/03/2020   \n",
       "3795      3796       48748        Haverford, PA  16/03/2020   \n",
       "3796      3797       48749                  NaN  16/03/2020   \n",
       "3797      3798       48750  Arlington, Virginia  16/03/2020   \n",
       "\n",
       "                                          OriginalTweet           Sentiment  \n",
       "0     @MeNyrbie @Phil_Gahan @Chrisitv https://t.co/i...             Neutral  \n",
       "1     advice Talk to your neighbours family to excha...            Positive  \n",
       "2     Coronavirus Australia: Woolworths to give elde...            Positive  \n",
       "3     My food stock is not the only one which is emp...            Positive  \n",
       "4     Me, ready to go at supermarket during the #COV...  Extremely Negative  \n",
       "...                                                 ...                 ...  \n",
       "3793  Meanwhile In A Supermarket in Israel -- People...            Positive  \n",
       "3794  Did you panic buy a lot of non-perishable item...            Negative  \n",
       "3795  Asst Prof of Economics @cconces was on @NBCPhi...             Neutral  \n",
       "3796  Gov need to do somethings instead of biar je r...  Extremely Negative  \n",
       "3797  I and @ForestandPaper members are committed to...  Extremely Positive  \n",
       "\n",
       "[44955 rows x 6 columns]"
      ]
     },
     "execution_count": 22,
     "metadata": {},
     "output_type": "execute_result"
    }
   ],
   "source": [
    "Data"
   ]
  },
  {
   "cell_type": "code",
   "execution_count": 98,
   "metadata": {
    "scrolled": true
   },
   "outputs": [
    {
     "data": {
      "image/png": "[encoded data removed]",
      "text/plain": [
       "<Figure size 1080x360 with 3 Axes>"
      ]
     },
     "metadata": {
      "needs_background": "light"
     },
     "output_type": "display_data"
    },
    {
     "data": {
      "text/plain": [
       "<Figure size 432x288 with 0 Axes>"
      ]
     },
     "metadata": {},
     "output_type": "display_data"
    }
   ],
   "source": [
    "#Characters in a tweet\n",
    "\n",
    "fig,(ax1,ax2,ax3) = plt.subplots(1,3, figsize = (15,5))\n",
    "\n",
    "Positive_Len = train[train['Sentiment']=='Positive']['Text'].str.len()\n",
    "ax1.hist(Positive_Len, color = 'gray')\n",
    "ax1.set_title('Positive Sentiment')\n",
    "\n",
    "Negative_Len = train[train['Sentiment']=='Negative']['Text'].str.len()\n",
    "ax2.hist(Negative_Len, color = 'gray')\n",
    "ax2.set_title('Negative Sentiment')\n",
    "\n",
    "Neutral_Len = train[train['Sentiment']=='Neutral']['Text'].str.len()\n",
    "ax3.hist(Neutral_Len, color = 'Black')\n",
    "ax3.set_title('Neutral Sentiment')\n",
    "\n",
    "fig.suptitle('Characters in tweet')\n",
    "plt.show()\n",
    "plt.savefig(r'C:\\Users\\User\\Desktop\\Data Analysis\\Saved\\Twit3')"
   ]
  },
  {
   "cell_type": "code",
   "execution_count": 24,
   "metadata": {},
   "outputs": [
    {
     "data": {
      "image/png": "[encoded data removed]",
      "text/plain": [
       "<Figure size 1080x360 with 3 Axes>"
      ]
     },
     "metadata": {
      "needs_background": "light"
     },
     "output_type": "display_data"
    },
    {
     "data": {
      "text/plain": [
       "<Figure size 432x288 with 0 Axes>"
      ]
     },
     "metadata": {},
     "output_type": "display_data"
    }
   ],
   "source": [
    "#Words in a tweet\n",
    "\n",
    "fig,(ax1,ax2,ax3) = plt.subplots(1,3, figsize = (15,5))\n",
    "\n",
    "Positive_Len = train[train['Sentiment']=='Positive']['Text'].str.split().map(lambda x: len(x))\n",
    "ax1.hist(Positive_Len, color = 'green')\n",
    "ax1.set_title('Positive Sentiment')\n",
    "\n",
    "Negative_Len = train[train['Sentiment']=='Negative']['Text'].str.split().map(lambda x: len(x))\n",
    "ax2.hist(Negative_Len, color = 'red')\n",
    "ax2.set_title('Negatiive Sentiment')\n",
    "\n",
    "Neutral_Len = train[train['Sentiment']=='Neutral']['Text'].str.split().map(lambda x: len(x))\n",
    "ax3.hist(Neutral_Len, color = 'gray')\n",
    "ax3.set_title('Neutral Sentiment')\n",
    "\n",
    "fig.suptitle('Words in tweet')\n",
    "plt.show()\n",
    "plt.savefig(r'C:\\Users\\User\\Desktop\\Data Analysis\\Saved\\Twit4')"
   ]
  },
  {
   "cell_type": "markdown",
   "metadata": {},
   "source": [
    "The words in tweet has similar distribution with the Length. The number of words in tweet is the length minus the spaces"
   ]
  },
  {
   "cell_type": "code",
   "execution_count": 25,
   "metadata": {},
   "outputs": [
    {
     "data": {
      "text/plain": [
       "2877     Foreigner Dragged Out Of Supermarket After Ref...\n",
       "3942     #Coronavirus increases Chinese phones #prices ...\n",
       "10044    The energy you're using to insult us\\r\\r\\nWhy ...\n",
       "10238     Akpeteshie  shortage hits Takoradi as sanitiz...\n",
       "13237    Coronavirus Rwanda fines 44 company for hiking...\n",
       "14409    See Vladimir Putin's response to the hiking of...\n",
       "15128    In this season of COVID-19 outbreak you can't ...\n",
       "15957    Putin say make dem revoke the shops n companie...\n",
       "18360    The reasons most of these traders are giving f...\n",
       "21106    @GovWike We will like to partner with the stat...\n",
       "22187    Hmmmm this lockdown things wonÂt be easy ooo....\n",
       "22565    AMG General means business! He blessed Tema Ge...\n",
       "23213    Thoroughly wash your hands with soap under run...\n",
       "24240    CityDia was the first Supermarket chain in Gha...\n",
       "25414    COVID-19-Lock-Down-Don039t-Panic-There-Is-More...\n",
       "25870    Kenyan manufacturers unveil online shopping #p...\n",
       "29486    World food prices declined sharply in March, d...\n",
       "31556    Wash your hands oftenÂ with soap and water for...\n",
       "32159    Ghana Loses $1 billion as Global Cocoa Prices ...\n",
       "32599    (((LIVE)))\\r\\r\\n\\r\\r\\nCOVID-19 &amp; FOOD SECU...\n",
       "33793    Food security Have we done enough to boost pro...\n",
       "34718    Keda-ceramics-Ghana-and-Sunda-International-de...\n",
       "36594    @eniolaDS @elnathan_john Most? I'll still say ...\n",
       "37086    Shoppers queue using social distancing outside...\n",
       "40639    Come to think of it these high prices of  sani...\n",
       "Name: OriginalTweet, dtype: object"
      ]
     },
     "execution_count": 25,
     "metadata": {},
     "output_type": "execute_result"
    }
   ],
   "source": [
    "#Tweets from Ghanaian about the Covid19\n",
    "train[train['Location']=='Ghana']['OriginalTweet']"
   ]
  },
  {
   "cell_type": "code",
   "execution_count": 26,
   "metadata": {},
   "outputs": [
    {
     "data": {
      "text/plain": [
       "Positive              8\n",
       "Neutral               7\n",
       "Negative              5\n",
       "Extremely Positive    4\n",
       "Extremely Negative    1\n",
       "Name: Sentiment, dtype: int64"
      ]
     },
     "execution_count": 26,
     "metadata": {},
     "output_type": "execute_result"
    }
   ],
   "source": [
    "train[train['Location']=='Ghana']['Sentiment'].value_counts()"
   ]
  },
  {
   "cell_type": "markdown",
   "metadata": {},
   "source": [
    "### LOCATION"
   ]
  },
  {
   "cell_type": "code",
   "execution_count": 27,
   "metadata": {},
   "outputs": [
    {
     "data": {
      "text/plain": [
       "count      32567\n",
       "unique     12220\n",
       "top       London\n",
       "freq         540\n",
       "Name: Location, dtype: object"
      ]
     },
     "execution_count": 27,
     "metadata": {},
     "output_type": "execute_result"
    }
   ],
   "source": [
    "#Location of the tweets\n",
    "train['Location'].describe()"
   ]
  },
  {
   "cell_type": "markdown",
   "metadata": {},
   "source": [
    "London has the most appearance followed by American cities. Unfortunately there lot empty and incomplete data for the location variable "
   ]
  },
  {
   "cell_type": "code",
   "execution_count": 28,
   "metadata": {},
   "outputs": [
    {
     "data": {
      "text/plain": [
       "London             540\n",
       "United States      528\n",
       "London, England    520\n",
       "New York, NY       395\n",
       "Washington, DC     373\n",
       "United Kingdom     337\n",
       "Los Angeles, CA    281\n",
       "India              268\n",
       "UK                 232\n",
       "Australia          225\n",
       "Name: Location, dtype: int64"
      ]
     },
     "execution_count": 28,
     "metadata": {},
     "output_type": "execute_result"
    }
   ],
   "source": [
    "#The various locations with frequnecy\n",
    "train.Location.value_counts(normalize=False).head(10)"
   ]
  },
  {
   "cell_type": "code",
   "execution_count": 29,
   "metadata": {},
   "outputs": [
    {
     "data": {
      "text/plain": [
       "8590"
      ]
     },
     "execution_count": 29,
     "metadata": {},
     "output_type": "execute_result"
    }
   ],
   "source": [
    "#Total number of empty cells in location variable\n",
    "train['Location'].isnull().sum()"
   ]
  },
  {
   "cell_type": "markdown",
   "metadata": {},
   "source": [
    "### Sentiments"
   ]
  },
  {
   "cell_type": "code",
   "execution_count": 30,
   "metadata": {},
   "outputs": [
    {
     "data": {
      "text/plain": [
       "Positive              11422\n",
       "Negative               9917\n",
       "Neutral                7713\n",
       "Extremely Positive     6624\n",
       "Extremely Negative     5481\n",
       "Name: Sentiment, dtype: int64"
      ]
     },
     "execution_count": 30,
     "metadata": {},
     "output_type": "execute_result"
    }
   ],
   "source": [
    "train['Sentiment'].value_counts()"
   ]
  },
  {
   "cell_type": "markdown",
   "metadata": {},
   "source": [
    "Most of the tweets are tagged as positive"
   ]
  },
  {
   "cell_type": "code",
   "execution_count": 31,
   "metadata": {},
   "outputs": [
    {
     "data": {
      "text/plain": [
       "Text(0.5, 1.0, 'Train Sentiment Distribution')"
      ]
     },
     "execution_count": 31,
     "metadata": {},
     "output_type": "execute_result"
    },
    {
     "data": {
      "image/png": "[encoded data removed]",
      "text/plain": [
       "<Figure size 432x288 with 1 Axes>"
      ]
     },
     "metadata": {
      "needs_background": "light"
     },
     "output_type": "display_data"
    }
   ],
   "source": [
    "sns.countplot(x='Sentiment',data= train)\n",
    "plt.xticks(rotation= '90')\n",
    "plt.title(label= 'Train Sentiment Distribution')"
   ]
  },
  {
   "cell_type": "code",
   "execution_count": 32,
   "metadata": {},
   "outputs": [
    {
     "data": {
      "text/plain": [
       "Text(0.5, 1.0, 'Test Sentiment Distribution')"
      ]
     },
     "execution_count": 32,
     "metadata": {},
     "output_type": "execute_result"
    },
    {
     "data": {
      "image/png": "[encoded data removed]",
      "text/plain": [
       "<Figure size 432x288 with 1 Axes>"
      ]
     },
     "metadata": {
      "needs_background": "light"
     },
     "output_type": "display_data"
    }
   ],
   "source": [
    "sns.countplot(x='Sentiment',data= test)\n",
    "plt.xticks(rotation= '90')\n",
    "plt.title(label= 'Test Sentiment Distribution')"
   ]
  },
  {
   "cell_type": "code",
   "execution_count": 33,
   "metadata": {},
   "outputs": [],
   "source": [
    "#Grouping the data into respective sentiments\n",
    "Extreme_Negative = train[train['Sentiment']=='Extremely_Negative']\n",
    "Extreme_Positive = train[train['Sentiment']=='Extremely_Positive']\n",
    "Negative = train[train['Sentiment']=='Negative']\n",
    "Positive = train[train['Sentiment']=='Positive']\n",
    "Neutral = train[train['Sentiment']=='Neutral']"
   ]
  },
  {
   "cell_type": "code",
   "execution_count": 34,
   "metadata": {},
   "outputs": [
    {
     "data": {
      "text/html": [
       "<div>\n",
       "<style scoped>\n",
       "    .dataframe tbody tr th:only-of-type {\n",
       "        vertical-align: middle;\n",
       "    }\n",
       "\n",
       "    .dataframe tbody tr th {\n",
       "        vertical-align: top;\n",
       "    }\n",
       "\n",
       "    .dataframe thead th {\n",
       "        text-align: right;\n",
       "    }\n",
       "</style>\n",
       "<table border=\"1\" class=\"dataframe\">\n",
       "  <thead>\n",
       "    <tr style=\"text-align: right;\">\n",
       "      <th></th>\n",
       "      <th>UserName</th>\n",
       "      <th>ScreenName</th>\n",
       "      <th>Location</th>\n",
       "      <th>TweetAt</th>\n",
       "      <th>OriginalTweet</th>\n",
       "      <th>Sentiment</th>\n",
       "      <th>Text</th>\n",
       "      <th>Length</th>\n",
       "    </tr>\n",
       "  </thead>\n",
       "  <tbody>\n",
       "    <tr>\n",
       "      <th>9</th>\n",
       "      <td>3808</td>\n",
       "      <td>48760</td>\n",
       "      <td>BHAVNAGAR,GUJRAT</td>\n",
       "      <td>16/03/2020</td>\n",
       "      <td>For corona prevention,we should stop to buy th...</td>\n",
       "      <td>Negative</td>\n",
       "      <td>For corona prevention,we should stop to buy th...</td>\n",
       "      <td>267</td>\n",
       "    </tr>\n",
       "    <tr>\n",
       "      <th>24</th>\n",
       "      <td>3823</td>\n",
       "      <td>48775</td>\n",
       "      <td>Downstage centre</td>\n",
       "      <td>16/03/2020</td>\n",
       "      <td>@10DowningStreet @grantshapps what is being do...</td>\n",
       "      <td>Negative</td>\n",
       "      <td>@10DowningStreet @grantshapps what is being do...</td>\n",
       "      <td>255</td>\n",
       "    </tr>\n",
       "    <tr>\n",
       "      <th>26</th>\n",
       "      <td>3825</td>\n",
       "      <td>48777</td>\n",
       "      <td>Ketchum, Idaho</td>\n",
       "      <td>16/03/2020</td>\n",
       "      <td>In preparation for higher demand and a potenti...</td>\n",
       "      <td>Negative</td>\n",
       "      <td>In preparation for higher demand and a potenti...</td>\n",
       "      <td>202</td>\n",
       "    </tr>\n",
       "    <tr>\n",
       "      <th>28</th>\n",
       "      <td>3827</td>\n",
       "      <td>48779</td>\n",
       "      <td>New York, NY</td>\n",
       "      <td>16/03/2020</td>\n",
       "      <td>Do you see malicious price increases in NYC? T...</td>\n",
       "      <td>Negative</td>\n",
       "      <td>Do you see malicious price increases in NYC? T...</td>\n",
       "      <td>286</td>\n",
       "    </tr>\n",
       "    <tr>\n",
       "      <th>30</th>\n",
       "      <td>3829</td>\n",
       "      <td>48781</td>\n",
       "      <td>NaN</td>\n",
       "      <td>16/03/2020</td>\n",
       "      <td>There Is of in the Country  The more empty she...</td>\n",
       "      <td>Negative</td>\n",
       "      <td>There Is of in the Country  The more empty she...</td>\n",
       "      <td>114</td>\n",
       "    </tr>\n",
       "    <tr>\n",
       "      <th>...</th>\n",
       "      <td>...</td>\n",
       "      <td>...</td>\n",
       "      <td>...</td>\n",
       "      <td>...</td>\n",
       "      <td>...</td>\n",
       "      <td>...</td>\n",
       "      <td>...</td>\n",
       "      <td>...</td>\n",
       "    </tr>\n",
       "    <tr>\n",
       "      <th>41127</th>\n",
       "      <td>44926</td>\n",
       "      <td>89878</td>\n",
       "      <td>NaN</td>\n",
       "      <td>14/04/2020</td>\n",
       "      <td>Today at the grocery store I saw someone getti...</td>\n",
       "      <td>Negative</td>\n",
       "      <td>Today at the grocery store I saw someone getti...</td>\n",
       "      <td>275</td>\n",
       "    </tr>\n",
       "    <tr>\n",
       "      <th>41131</th>\n",
       "      <td>44930</td>\n",
       "      <td>89882</td>\n",
       "      <td>Accra, Ghana</td>\n",
       "      <td>14/04/2020</td>\n",
       "      <td>In every human affliction there are  gainers a...</td>\n",
       "      <td>Negative</td>\n",
       "      <td>In every human affliction there are  gainers a...</td>\n",
       "      <td>278</td>\n",
       "    </tr>\n",
       "    <tr>\n",
       "      <th>41147</th>\n",
       "      <td>44946</td>\n",
       "      <td>89898</td>\n",
       "      <td>Brooklyn, NY</td>\n",
       "      <td>14/04/2020</td>\n",
       "      <td>YÂall really shitting that much more at home?...</td>\n",
       "      <td>Negative</td>\n",
       "      <td>YÂall really shitting that much more at home?...</td>\n",
       "      <td>82</td>\n",
       "    </tr>\n",
       "    <tr>\n",
       "      <th>41149</th>\n",
       "      <td>44948</td>\n",
       "      <td>89900</td>\n",
       "      <td>Toronto, Ontario</td>\n",
       "      <td>14/04/2020</td>\n",
       "      <td>Still shocked by the number of #Toronto superm...</td>\n",
       "      <td>Negative</td>\n",
       "      <td>Still shocked by the number of #Toronto superm...</td>\n",
       "      <td>177</td>\n",
       "    </tr>\n",
       "    <tr>\n",
       "      <th>41156</th>\n",
       "      <td>44955</td>\n",
       "      <td>89907</td>\n",
       "      <td>i love you so much || he/him</td>\n",
       "      <td>14/04/2020</td>\n",
       "      <td>@TartiiCat Well new/used Rift S are going for ...</td>\n",
       "      <td>Negative</td>\n",
       "      <td>@TartiiCat Well new/used Rift S are going for ...</td>\n",
       "      <td>255</td>\n",
       "    </tr>\n",
       "  </tbody>\n",
       "</table>\n",
       "<p>9917 rows × 8 columns</p>\n",
       "</div>"
      ],
      "text/plain": [
       "       UserName  ScreenName                      Location     TweetAt  \\\n",
       "9          3808       48760              BHAVNAGAR,GUJRAT  16/03/2020   \n",
       "24         3823       48775              Downstage centre  16/03/2020   \n",
       "26         3825       48777                Ketchum, Idaho  16/03/2020   \n",
       "28         3827       48779                  New York, NY  16/03/2020   \n",
       "30         3829       48781                           NaN  16/03/2020   \n",
       "...         ...         ...                           ...         ...   \n",
       "41127     44926       89878                           NaN  14/04/2020   \n",
       "41131     44930       89882                  Accra, Ghana  14/04/2020   \n",
       "41147     44946       89898                  Brooklyn, NY  14/04/2020   \n",
       "41149     44948       89900              Toronto, Ontario  14/04/2020   \n",
       "41156     44955       89907  i love you so much || he/him  14/04/2020   \n",
       "\n",
       "                                           OriginalTweet Sentiment  \\\n",
       "9      For corona prevention,we should stop to buy th...  Negative   \n",
       "24     @10DowningStreet @grantshapps what is being do...  Negative   \n",
       "26     In preparation for higher demand and a potenti...  Negative   \n",
       "28     Do you see malicious price increases in NYC? T...  Negative   \n",
       "30     There Is of in the Country  The more empty she...  Negative   \n",
       "...                                                  ...       ...   \n",
       "41127  Today at the grocery store I saw someone getti...  Negative   \n",
       "41131  In every human affliction there are  gainers a...  Negative   \n",
       "41147  YÂall really shitting that much more at home?...  Negative   \n",
       "41149  Still shocked by the number of #Toronto superm...  Negative   \n",
       "41156  @TartiiCat Well new/used Rift S are going for ...  Negative   \n",
       "\n",
       "                                                    Text  Length  \n",
       "9      For corona prevention,we should stop to buy th...     267  \n",
       "24     @10DowningStreet @grantshapps what is being do...     255  \n",
       "26     In preparation for higher demand and a potenti...     202  \n",
       "28     Do you see malicious price increases in NYC? T...     286  \n",
       "30     There Is of in the Country  The more empty she...     114  \n",
       "...                                                  ...     ...  \n",
       "41127  Today at the grocery store I saw someone getti...     275  \n",
       "41131  In every human affliction there are  gainers a...     278  \n",
       "41147  YÂall really shitting that much more at home?...      82  \n",
       "41149  Still shocked by the number of #Toronto superm...     177  \n",
       "41156  @TartiiCat Well new/used Rift S are going for ...     255  \n",
       "\n",
       "[9917 rows x 8 columns]"
      ]
     },
     "execution_count": 34,
     "metadata": {},
     "output_type": "execute_result"
    }
   ],
   "source": [
    "Negative"
   ]
  },
  {
   "cell_type": "code",
   "execution_count": 35,
   "metadata": {},
   "outputs": [
    {
     "data": {
      "text/plain": [
       "0"
      ]
     },
     "execution_count": 35,
     "metadata": {},
     "output_type": "execute_result"
    }
   ],
   "source": [
    "train['Sentiment'].isnull().sum()"
   ]
  },
  {
   "cell_type": "code",
   "execution_count": 36,
   "metadata": {},
   "outputs": [
    {
     "data": {
      "text/plain": [
       "<matplotlib.axes._subplots.AxesSubplot at 0x2136d081408>"
      ]
     },
     "execution_count": 36,
     "metadata": {},
     "output_type": "execute_result"
    },
    {
     "data": {
      "image/png": "[encoded data removed]",
      "text/plain": [
       "<Figure size 432x288 with 1 Axes>"
      ]
     },
     "metadata": {
      "needs_background": "light"
     },
     "output_type": "display_data"
    }
   ],
   "source": [
    "#A distributive plot for Length\n",
    "sns.distplot(a = train['Length'],hist=True)"
   ]
  },
  {
   "cell_type": "markdown",
   "metadata": {},
   "source": [
    "## Text Transformation and Analysis"
   ]
  },
  {
   "cell_type": "code",
   "execution_count": 37,
   "metadata": {},
   "outputs": [],
   "source": [
    "#Converting Sentiments to numerics\n",
    "\n",
    "def sentiment(x):\n",
    "    if x == 'Extremely Positive':\n",
    "        return '2'\n",
    "    elif x == 'Positive':\n",
    "        return '2'\n",
    "    elif x == 'Extremely Negative':\n",
    "        return '0'\n",
    "    elif x == 'Neutral':\n",
    "        return '1'\n",
    "    else:\n",
    "        return '0'"
   ]
  },
  {
   "cell_type": "code",
   "execution_count": 38,
   "metadata": {},
   "outputs": [],
   "source": [
    "train['Label'] = train['Sentiment'].apply(sentiment)\n",
    "test['Label'] = test['Sentiment'].apply(sentiment)"
   ]
  },
  {
   "cell_type": "code",
   "execution_count": 39,
   "metadata": {},
   "outputs": [
    {
     "data": {
      "text/html": [
       "<div>\n",
       "<style scoped>\n",
       "    .dataframe tbody tr th:only-of-type {\n",
       "        vertical-align: middle;\n",
       "    }\n",
       "\n",
       "    .dataframe tbody tr th {\n",
       "        vertical-align: top;\n",
       "    }\n",
       "\n",
       "    .dataframe thead th {\n",
       "        text-align: right;\n",
       "    }\n",
       "</style>\n",
       "<table border=\"1\" class=\"dataframe\">\n",
       "  <thead>\n",
       "    <tr style=\"text-align: right;\">\n",
       "      <th></th>\n",
       "      <th>UserName</th>\n",
       "      <th>ScreenName</th>\n",
       "      <th>Location</th>\n",
       "      <th>TweetAt</th>\n",
       "      <th>OriginalTweet</th>\n",
       "      <th>Sentiment</th>\n",
       "      <th>Text</th>\n",
       "      <th>Length</th>\n",
       "      <th>Label</th>\n",
       "    </tr>\n",
       "  </thead>\n",
       "  <tbody>\n",
       "    <tr>\n",
       "      <th>0</th>\n",
       "      <td>3799</td>\n",
       "      <td>48751</td>\n",
       "      <td>London</td>\n",
       "      <td>16/03/2020</td>\n",
       "      <td>@MeNyrbie @Phil_Gahan @Chrisitv https://t.co/i...</td>\n",
       "      <td>Neutral</td>\n",
       "      <td>@MeNyrbie @Phil_Gahan @Chrisitv https://t.co/i...</td>\n",
       "      <td>111</td>\n",
       "      <td>1</td>\n",
       "    </tr>\n",
       "    <tr>\n",
       "      <th>1</th>\n",
       "      <td>3800</td>\n",
       "      <td>48752</td>\n",
       "      <td>UK</td>\n",
       "      <td>16/03/2020</td>\n",
       "      <td>advice Talk to your neighbours family to excha...</td>\n",
       "      <td>Positive</td>\n",
       "      <td>advice Talk to your neighbours family to excha...</td>\n",
       "      <td>237</td>\n",
       "      <td>2</td>\n",
       "    </tr>\n",
       "    <tr>\n",
       "      <th>2</th>\n",
       "      <td>3801</td>\n",
       "      <td>48753</td>\n",
       "      <td>Vagabonds</td>\n",
       "      <td>16/03/2020</td>\n",
       "      <td>Coronavirus Australia: Woolworths to give elde...</td>\n",
       "      <td>Positive</td>\n",
       "      <td>Coronavirus Australia: Woolworths to give elde...</td>\n",
       "      <td>131</td>\n",
       "      <td>2</td>\n",
       "    </tr>\n",
       "    <tr>\n",
       "      <th>3</th>\n",
       "      <td>3802</td>\n",
       "      <td>48754</td>\n",
       "      <td>NaN</td>\n",
       "      <td>16/03/2020</td>\n",
       "      <td>My food stock is not the only one which is emp...</td>\n",
       "      <td>Positive</td>\n",
       "      <td>My food stock is not the only one which is emp...</td>\n",
       "      <td>306</td>\n",
       "      <td>2</td>\n",
       "    </tr>\n",
       "    <tr>\n",
       "      <th>4</th>\n",
       "      <td>3803</td>\n",
       "      <td>48755</td>\n",
       "      <td>NaN</td>\n",
       "      <td>16/03/2020</td>\n",
       "      <td>Me, ready to go at supermarket during the #COV...</td>\n",
       "      <td>Extremely Negative</td>\n",
       "      <td>Me, ready to go at supermarket during the #COV...</td>\n",
       "      <td>310</td>\n",
       "      <td>0</td>\n",
       "    </tr>\n",
       "    <tr>\n",
       "      <th>...</th>\n",
       "      <td>...</td>\n",
       "      <td>...</td>\n",
       "      <td>...</td>\n",
       "      <td>...</td>\n",
       "      <td>...</td>\n",
       "      <td>...</td>\n",
       "      <td>...</td>\n",
       "      <td>...</td>\n",
       "      <td>...</td>\n",
       "    </tr>\n",
       "    <tr>\n",
       "      <th>41152</th>\n",
       "      <td>44951</td>\n",
       "      <td>89903</td>\n",
       "      <td>Wellington City, New Zealand</td>\n",
       "      <td>14/04/2020</td>\n",
       "      <td>Airline pilots offering to stock supermarket s...</td>\n",
       "      <td>Neutral</td>\n",
       "      <td>Airline pilots offering to stock supermarket s...</td>\n",
       "      <td>102</td>\n",
       "      <td>1</td>\n",
       "    </tr>\n",
       "    <tr>\n",
       "      <th>41153</th>\n",
       "      <td>44952</td>\n",
       "      <td>89904</td>\n",
       "      <td>NaN</td>\n",
       "      <td>14/04/2020</td>\n",
       "      <td>Response to complaint not provided citing COVI...</td>\n",
       "      <td>Extremely Negative</td>\n",
       "      <td>Response to complaint not provided citing COVI...</td>\n",
       "      <td>138</td>\n",
       "      <td>0</td>\n",
       "    </tr>\n",
       "    <tr>\n",
       "      <th>41154</th>\n",
       "      <td>44953</td>\n",
       "      <td>89905</td>\n",
       "      <td>NaN</td>\n",
       "      <td>14/04/2020</td>\n",
       "      <td>You know itÂs getting tough when @KameronWild...</td>\n",
       "      <td>Positive</td>\n",
       "      <td>You know itÂs getting tough when @KameronWild...</td>\n",
       "      <td>136</td>\n",
       "      <td>2</td>\n",
       "    </tr>\n",
       "    <tr>\n",
       "      <th>41155</th>\n",
       "      <td>44954</td>\n",
       "      <td>89906</td>\n",
       "      <td>NaN</td>\n",
       "      <td>14/04/2020</td>\n",
       "      <td>Is it wrong that the smell of hand sanitizer i...</td>\n",
       "      <td>Neutral</td>\n",
       "      <td>Is it wrong that the smell of hand sanitizer i...</td>\n",
       "      <td>111</td>\n",
       "      <td>1</td>\n",
       "    </tr>\n",
       "    <tr>\n",
       "      <th>41156</th>\n",
       "      <td>44955</td>\n",
       "      <td>89907</td>\n",
       "      <td>i love you so much || he/him</td>\n",
       "      <td>14/04/2020</td>\n",
       "      <td>@TartiiCat Well new/used Rift S are going for ...</td>\n",
       "      <td>Negative</td>\n",
       "      <td>@TartiiCat Well new/used Rift S are going for ...</td>\n",
       "      <td>255</td>\n",
       "      <td>0</td>\n",
       "    </tr>\n",
       "  </tbody>\n",
       "</table>\n",
       "<p>41157 rows × 9 columns</p>\n",
       "</div>"
      ],
      "text/plain": [
       "       UserName  ScreenName                      Location     TweetAt  \\\n",
       "0          3799       48751                        London  16/03/2020   \n",
       "1          3800       48752                            UK  16/03/2020   \n",
       "2          3801       48753                     Vagabonds  16/03/2020   \n",
       "3          3802       48754                           NaN  16/03/2020   \n",
       "4          3803       48755                           NaN  16/03/2020   \n",
       "...         ...         ...                           ...         ...   \n",
       "41152     44951       89903  Wellington City, New Zealand  14/04/2020   \n",
       "41153     44952       89904                           NaN  14/04/2020   \n",
       "41154     44953       89905                           NaN  14/04/2020   \n",
       "41155     44954       89906                           NaN  14/04/2020   \n",
       "41156     44955       89907  i love you so much || he/him  14/04/2020   \n",
       "\n",
       "                                           OriginalTweet           Sentiment  \\\n",
       "0      @MeNyrbie @Phil_Gahan @Chrisitv https://t.co/i...             Neutral   \n",
       "1      advice Talk to your neighbours family to excha...            Positive   \n",
       "2      Coronavirus Australia: Woolworths to give elde...            Positive   \n",
       "3      My food stock is not the only one which is emp...            Positive   \n",
       "4      Me, ready to go at supermarket during the #COV...  Extremely Negative   \n",
       "...                                                  ...                 ...   \n",
       "41152  Airline pilots offering to stock supermarket s...             Neutral   \n",
       "41153  Response to complaint not provided citing COVI...  Extremely Negative   \n",
       "41154  You know itÂs getting tough when @KameronWild...            Positive   \n",
       "41155  Is it wrong that the smell of hand sanitizer i...             Neutral   \n",
       "41156  @TartiiCat Well new/used Rift S are going for ...            Negative   \n",
       "\n",
       "                                                    Text  Length Label  \n",
       "0      @MeNyrbie @Phil_Gahan @Chrisitv https://t.co/i...     111     1  \n",
       "1      advice Talk to your neighbours family to excha...     237     2  \n",
       "2      Coronavirus Australia: Woolworths to give elde...     131     2  \n",
       "3      My food stock is not the only one which is emp...     306     2  \n",
       "4      Me, ready to go at supermarket during the #COV...     310     0  \n",
       "...                                                  ...     ...   ...  \n",
       "41152  Airline pilots offering to stock supermarket s...     102     1  \n",
       "41153  Response to complaint not provided citing COVI...     138     0  \n",
       "41154  You know itÂs getting tough when @KameronWild...     136     2  \n",
       "41155  Is it wrong that the smell of hand sanitizer i...     111     1  \n",
       "41156  @TartiiCat Well new/used Rift S are going for ...     255     0  \n",
       "\n",
       "[41157 rows x 9 columns]"
      ]
     },
     "execution_count": 39,
     "metadata": {},
     "output_type": "execute_result"
    }
   ],
   "source": [
    "train"
   ]
  },
  {
   "cell_type": "code",
   "execution_count": 40,
   "metadata": {},
   "outputs": [
    {
     "name": "stdout",
     "output_type": "stream",
     "text": [
      "2    18046\n",
      "0    15398\n",
      "1     7713\n",
      "Name: Label, dtype: int64\n"
     ]
    },
    {
     "data": {
      "image/png": "[encoded data removed]",
      "text/plain": [
       "<Figure size 432x288 with 1 Axes>"
      ]
     },
     "metadata": {
      "needs_background": "light"
     },
     "output_type": "display_data"
    }
   ],
   "source": [
    "sns.countplot(x='Label', data=train)\n",
    "plt.title('Train Sentiment Distribution')\n",
    "print(train.Label.value_counts())\n"
   ]
  },
  {
   "cell_type": "code",
   "execution_count": 41,
   "metadata": {},
   "outputs": [
    {
     "name": "stdout",
     "output_type": "stream",
     "text": [
      "0    1633\n",
      "2    1546\n",
      "1     619\n",
      "Name: Label, dtype: int64\n"
     ]
    },
    {
     "data": {
      "image/png": "[encoded data removed]",
      "text/plain": [
       "<Figure size 432x288 with 1 Axes>"
      ]
     },
     "metadata": {
      "needs_background": "light"
     },
     "output_type": "display_data"
    }
   ],
   "source": [
    "sns.countplot(x='Label', data=test)\n",
    "plt.title('Test Sentiment Distribution')\n",
    "print(test.Label.value_counts())"
   ]
  },
  {
   "cell_type": "markdown",
   "metadata": {},
   "source": [
    "### Data cleaning"
   ]
  },
  {
   "cell_type": "code",
   "execution_count": 42,
   "metadata": {},
   "outputs": [],
   "source": [
    "#Remove mentions and hashtags\n",
    "def remove_mentions(text):\n",
    "    mentions = re.sub('\\w*\\@\\w*','',text)\n",
    "    return mentions\n",
    "train['Text'] = train['Text'].apply(lambda x: remove_mentions(x))\n",
    "test['Text'] = test['Text'].apply(lambda x: remove_mentions(x))"
   ]
  },
  {
   "cell_type": "code",
   "execution_count": 43,
   "metadata": {},
   "outputs": [],
   "source": [
    "#Remove hashtags\n",
    "def remove_hashtags(text):\n",
    "    hashtags = re.sub('\\w*\\#\\w*','',text)\n",
    "    return hashtags\n",
    "train['Text'] = train['Text'].apply(lambda x: remove_hashtags(x))\n",
    "test['Text'] = test['Text'].apply(lambda x: remove_hashtags(x))"
   ]
  },
  {
   "cell_type": "code",
   "execution_count": 44,
   "metadata": {},
   "outputs": [],
   "source": [
    "def words_bracket(text):\n",
    "    bracket = re.sub('\\[.*?\\]','',text)\n",
    "    return bracket\n",
    "train['Text'] = train['Text'].apply(lambda x: words_bracket(x))\n",
    "test['Text'] = test['Text'].apply(lambda x: words_bracket(x))"
   ]
  },
  {
   "cell_type": "code",
   "execution_count": 45,
   "metadata": {},
   "outputs": [],
   "source": [
    "#Remove Urls and HTML links\n",
    "def remove_urls(text):\n",
    "    url_remove = re.compile('https?://\\S+|www\\.\\S+')\n",
    "    return url_remove.sub(r'', text)\n",
    "train['Text']=train['Text'].apply(lambda x:remove_urls(x))\n",
    "test['Text']=test['Text'].apply(lambda x:remove_urls(x))\n",
    "\n",
    "def remove_html(text):\n",
    "    html=re.compile('<.*?>')\n",
    "    return html.sub('',text)\n",
    "train['Text']=train['Text'].apply(lambda x:remove_html(x))\n",
    "test['Text']=test['Text'].apply(lambda x:remove_html(x))"
   ]
  },
  {
   "cell_type": "code",
   "execution_count": 46,
   "metadata": {},
   "outputs": [],
   "source": [
    "#Lowercase Characters\n",
    "def lower(text):\n",
    "    low_text = text.lower()\n",
    "    return low_text\n",
    "train['Text'] = train['Text'].apply(lambda x: lower(x))\n",
    "test['Text'] = test['Text'].apply(lambda x: lower(x))"
   ]
  },
  {
   "cell_type": "code",
   "execution_count": 47,
   "metadata": {},
   "outputs": [],
   "source": [
    "#Remove numbers\n",
    "def remove_number(text):\n",
    "    number_remove = re.sub(r'\\d+\\r', '',text)\n",
    "    return number_remove\n",
    "train['Text'] = train['Text'].apply(lambda x: remove_number(x))\n",
    "test['Text'] = test['Text'].apply(lambda x: remove_number(x))"
   ]
  },
  {
   "cell_type": "code",
   "execution_count": 48,
   "metadata": {},
   "outputs": [],
   "source": [
    "#Removing stopswords and punctuations\n",
    "def remove_punct(text):\n",
    "    punct_remove = re.sub('[^\\w\\s\\d]','',text)\n",
    "    return punct_remove\n",
    "train['Text'] = train['Text'].apply(lambda x: remove_punct(x))\n",
    "test['Text'] = test['Text'].apply(lambda x: remove_punct(x))"
   ]
  },
  {
   "cell_type": "code",
   "execution_count": 49,
   "metadata": {},
   "outputs": [],
   "source": [
    "def remove_space(text):\n",
    "    space_remove = re.sub('\\s+\\r\\n','',text).strip()\n",
    "    return space_remove\n",
    "train['Text'] = train['Text'].apply(lambda x: remove_space(x))\n",
    "test['Text'] = test['Text'].apply(lambda x: remove_space(x))"
   ]
  },
  {
   "cell_type": "code",
   "execution_count": 50,
   "metadata": {},
   "outputs": [],
   "source": [
    "#Removing Covid related words\n",
    "Covidwords = ['COVID_19','covid19','Covid19','Coronavirus','covid']\n",
    "\n",
    "def remove_covid(text):\n",
    "    for character in Covidwords:\n",
    "        text = text.replace(character,'')\n",
    "    return text\n",
    "train['Text'] = train['Text'].apply(lambda x: remove_covid(x))\n",
    "test['Text'] = test['Text'].apply(lambda x: remove_covid(x))"
   ]
  },
  {
   "cell_type": "code",
   "execution_count": 51,
   "metadata": {},
   "outputs": [
    {
     "data": {
      "text/plain": [
       "'Foreigner Dragged Out Of Supermarket After Refusing To Use Hand Sanitizer Yet Touching Items On  Shelves [Watch]\\r\\r\\n\\r\\r\\n#CoronaVirusNigeria #FightCOVID19 #CoronaVirusUpdate #CoronaVirus #ghana #ajrnews #COVID19Ghana #covid19 #StopTheSpread https://t.co/C9oUEvJ1gr'"
      ]
     },
     "execution_count": 51,
     "metadata": {},
     "output_type": "execute_result"
    }
   ],
   "source": [
    "#Original Tweet\n",
    "train[train['Location']=='Ghana']['OriginalTweet'].iloc[0]"
   ]
  },
  {
   "cell_type": "code",
   "execution_count": 52,
   "metadata": {},
   "outputs": [
    {
     "data": {
      "text/plain": [
       "'foreigner dragged out of supermarket after refusing to use hand sanitizer yet touching items on  shelves'"
      ]
     },
     "execution_count": 52,
     "metadata": {},
     "output_type": "execute_result"
    }
   ],
   "source": [
    "#Cleaned Tweet\n",
    "train[train['Location']=='Ghana']['Text'].iloc[0]"
   ]
  },
  {
   "cell_type": "code",
   "execution_count": 53,
   "metadata": {},
   "outputs": [],
   "source": [
    "def text_cleaning(One):\n",
    "    One = One.lower()\n",
    "    One = re.sub('\\w*\\#\\w*','',One)\n",
    "    One = re.sub('\\w*\\@\\w*','',One)\n",
    "    One = re.sub('\\[.*?\\]','',One)\n",
    "    One = re.sub('<.*?>','',One)\n",
    "    One = re.sub('<.*?>','',One)\n",
    "    One = re.sub('https?://\\S+|www\\.\\S+','',One)\n",
    "    One = re.sub('\\d+\\r','',One)\n",
    "    One = re.sub('[%s]' % re.escape(string.punctuation),'',One)\n",
    "    One = re.sub('[^\\w\\s\\d]','',One)\n",
    "    One = re.sub('\\s+\\r\\n','',One).strip()\n",
    "    One = re.sub('\\n','',One)\n",
    "    One = re.sub('\\w*\\d\\w*','',One)\n",
    "    return One"
   ]
  },
  {
   "cell_type": "code",
   "execution_count": null,
   "metadata": {},
   "outputs": [],
   "source": []
  },
  {
   "cell_type": "code",
   "execution_count": 54,
   "metadata": {},
   "outputs": [
    {
     "data": {
      "text/html": [
       "<div>\n",
       "<style scoped>\n",
       "    .dataframe tbody tr th:only-of-type {\n",
       "        vertical-align: middle;\n",
       "    }\n",
       "\n",
       "    .dataframe tbody tr th {\n",
       "        vertical-align: top;\n",
       "    }\n",
       "\n",
       "    .dataframe thead th {\n",
       "        text-align: right;\n",
       "    }\n",
       "</style>\n",
       "<table border=\"1\" class=\"dataframe\">\n",
       "  <thead>\n",
       "    <tr style=\"text-align: right;\">\n",
       "      <th></th>\n",
       "      <th>UserName</th>\n",
       "      <th>ScreenName</th>\n",
       "      <th>Location</th>\n",
       "      <th>TweetAt</th>\n",
       "      <th>OriginalTweet</th>\n",
       "      <th>Sentiment</th>\n",
       "      <th>Text</th>\n",
       "      <th>Length</th>\n",
       "      <th>Label</th>\n",
       "    </tr>\n",
       "  </thead>\n",
       "  <tbody>\n",
       "    <tr>\n",
       "      <th>0</th>\n",
       "      <td>3799</td>\n",
       "      <td>48751</td>\n",
       "      <td>London</td>\n",
       "      <td>16/03/2020</td>\n",
       "      <td>@MeNyrbie @Phil_Gahan @Chrisitv https://t.co/i...</td>\n",
       "      <td>Neutral</td>\n",
       "      <td>and  and</td>\n",
       "      <td>111</td>\n",
       "      <td>1</td>\n",
       "    </tr>\n",
       "    <tr>\n",
       "      <th>1</th>\n",
       "      <td>3800</td>\n",
       "      <td>48752</td>\n",
       "      <td>UK</td>\n",
       "      <td>16/03/2020</td>\n",
       "      <td>advice Talk to your neighbours family to excha...</td>\n",
       "      <td>Positive</td>\n",
       "      <td>advice talk to your neighbours family to excha...</td>\n",
       "      <td>237</td>\n",
       "      <td>2</td>\n",
       "    </tr>\n",
       "    <tr>\n",
       "      <th>2</th>\n",
       "      <td>3801</td>\n",
       "      <td>48753</td>\n",
       "      <td>Vagabonds</td>\n",
       "      <td>16/03/2020</td>\n",
       "      <td>Coronavirus Australia: Woolworths to give elde...</td>\n",
       "      <td>Positive</td>\n",
       "      <td>coronavirus australia woolworths to give elder...</td>\n",
       "      <td>131</td>\n",
       "      <td>2</td>\n",
       "    </tr>\n",
       "    <tr>\n",
       "      <th>3</th>\n",
       "      <td>3802</td>\n",
       "      <td>48754</td>\n",
       "      <td>NaN</td>\n",
       "      <td>16/03/2020</td>\n",
       "      <td>My food stock is not the only one which is emp...</td>\n",
       "      <td>Positive</td>\n",
       "      <td>my food stock is not the only one which is emp...</td>\n",
       "      <td>306</td>\n",
       "      <td>2</td>\n",
       "    </tr>\n",
       "    <tr>\n",
       "      <th>4</th>\n",
       "      <td>3803</td>\n",
       "      <td>48755</td>\n",
       "      <td>NaN</td>\n",
       "      <td>16/03/2020</td>\n",
       "      <td>Me, ready to go at supermarket during the #COV...</td>\n",
       "      <td>Extremely Negative</td>\n",
       "      <td>me ready to go at supermarket during the  outb...</td>\n",
       "      <td>310</td>\n",
       "      <td>0</td>\n",
       "    </tr>\n",
       "    <tr>\n",
       "      <th>...</th>\n",
       "      <td>...</td>\n",
       "      <td>...</td>\n",
       "      <td>...</td>\n",
       "      <td>...</td>\n",
       "      <td>...</td>\n",
       "      <td>...</td>\n",
       "      <td>...</td>\n",
       "      <td>...</td>\n",
       "      <td>...</td>\n",
       "    </tr>\n",
       "    <tr>\n",
       "      <th>41152</th>\n",
       "      <td>44951</td>\n",
       "      <td>89903</td>\n",
       "      <td>Wellington City, New Zealand</td>\n",
       "      <td>14/04/2020</td>\n",
       "      <td>Airline pilots offering to stock supermarket s...</td>\n",
       "      <td>Neutral</td>\n",
       "      <td>airline pilots offering to stock supermarket s...</td>\n",
       "      <td>102</td>\n",
       "      <td>1</td>\n",
       "    </tr>\n",
       "    <tr>\n",
       "      <th>41153</th>\n",
       "      <td>44952</td>\n",
       "      <td>89904</td>\n",
       "      <td>NaN</td>\n",
       "      <td>14/04/2020</td>\n",
       "      <td>Response to complaint not provided citing COVI...</td>\n",
       "      <td>Extremely Negative</td>\n",
       "      <td>response to complaint not provided citing  rel...</td>\n",
       "      <td>138</td>\n",
       "      <td>0</td>\n",
       "    </tr>\n",
       "    <tr>\n",
       "      <th>41154</th>\n",
       "      <td>44953</td>\n",
       "      <td>89905</td>\n",
       "      <td>NaN</td>\n",
       "      <td>14/04/2020</td>\n",
       "      <td>You know itÂs getting tough when @KameronWild...</td>\n",
       "      <td>Positive</td>\n",
       "      <td>you know itâs getting tough when   is rationin...</td>\n",
       "      <td>136</td>\n",
       "      <td>2</td>\n",
       "    </tr>\n",
       "    <tr>\n",
       "      <th>41155</th>\n",
       "      <td>44954</td>\n",
       "      <td>89906</td>\n",
       "      <td>NaN</td>\n",
       "      <td>14/04/2020</td>\n",
       "      <td>Is it wrong that the smell of hand sanitizer i...</td>\n",
       "      <td>Neutral</td>\n",
       "      <td>is it wrong that the smell of hand sanitizer i...</td>\n",
       "      <td>111</td>\n",
       "      <td>1</td>\n",
       "    </tr>\n",
       "    <tr>\n",
       "      <th>41156</th>\n",
       "      <td>44955</td>\n",
       "      <td>89907</td>\n",
       "      <td>i love you so much || he/him</td>\n",
       "      <td>14/04/2020</td>\n",
       "      <td>@TartiiCat Well new/used Rift S are going for ...</td>\n",
       "      <td>Negative</td>\n",
       "      <td>well newused rift s are going for 70000 on ama...</td>\n",
       "      <td>255</td>\n",
       "      <td>0</td>\n",
       "    </tr>\n",
       "  </tbody>\n",
       "</table>\n",
       "<p>41157 rows × 9 columns</p>\n",
       "</div>"
      ],
      "text/plain": [
       "       UserName  ScreenName                      Location     TweetAt  \\\n",
       "0          3799       48751                        London  16/03/2020   \n",
       "1          3800       48752                            UK  16/03/2020   \n",
       "2          3801       48753                     Vagabonds  16/03/2020   \n",
       "3          3802       48754                           NaN  16/03/2020   \n",
       "4          3803       48755                           NaN  16/03/2020   \n",
       "...         ...         ...                           ...         ...   \n",
       "41152     44951       89903  Wellington City, New Zealand  14/04/2020   \n",
       "41153     44952       89904                           NaN  14/04/2020   \n",
       "41154     44953       89905                           NaN  14/04/2020   \n",
       "41155     44954       89906                           NaN  14/04/2020   \n",
       "41156     44955       89907  i love you so much || he/him  14/04/2020   \n",
       "\n",
       "                                           OriginalTweet           Sentiment  \\\n",
       "0      @MeNyrbie @Phil_Gahan @Chrisitv https://t.co/i...             Neutral   \n",
       "1      advice Talk to your neighbours family to excha...            Positive   \n",
       "2      Coronavirus Australia: Woolworths to give elde...            Positive   \n",
       "3      My food stock is not the only one which is emp...            Positive   \n",
       "4      Me, ready to go at supermarket during the #COV...  Extremely Negative   \n",
       "...                                                  ...                 ...   \n",
       "41152  Airline pilots offering to stock supermarket s...             Neutral   \n",
       "41153  Response to complaint not provided citing COVI...  Extremely Negative   \n",
       "41154  You know itÂs getting tough when @KameronWild...            Positive   \n",
       "41155  Is it wrong that the smell of hand sanitizer i...             Neutral   \n",
       "41156  @TartiiCat Well new/used Rift S are going for ...            Negative   \n",
       "\n",
       "                                                    Text  Length Label  \n",
       "0                                               and  and     111     1  \n",
       "1      advice talk to your neighbours family to excha...     237     2  \n",
       "2      coronavirus australia woolworths to give elder...     131     2  \n",
       "3      my food stock is not the only one which is emp...     306     2  \n",
       "4      me ready to go at supermarket during the  outb...     310     0  \n",
       "...                                                  ...     ...   ...  \n",
       "41152  airline pilots offering to stock supermarket s...     102     1  \n",
       "41153  response to complaint not provided citing  rel...     138     0  \n",
       "41154  you know itâs getting tough when   is rationin...     136     2  \n",
       "41155  is it wrong that the smell of hand sanitizer i...     111     1  \n",
       "41156  well newused rift s are going for 70000 on ama...     255     0  \n",
       "\n",
       "[41157 rows x 9 columns]"
      ]
     },
     "execution_count": 54,
     "metadata": {},
     "output_type": "execute_result"
    }
   ],
   "source": [
    "train.copy()"
   ]
  },
  {
   "cell_type": "code",
   "execution_count": 55,
   "metadata": {},
   "outputs": [
    {
     "data": {
      "text/plain": [
       "'Foreigner Dragged Out Of Supermarket After Refusing To Use Hand Sanitizer Yet Touching Items On  Shelves [Watch]\\r\\r\\n\\r\\r\\n#CoronaVirusNigeria #FightCOVID19 #CoronaVirusUpdate #CoronaVirus #ghana #ajrnews #COVID19Ghana #covid19 #StopTheSpread https://t.co/C9oUEvJ1gr'"
      ]
     },
     "execution_count": 55,
     "metadata": {},
     "output_type": "execute_result"
    }
   ],
   "source": [
    "#Original Tweet\n",
    "train[train['Location']=='Ghana']['OriginalTweet'].iloc[0]"
   ]
  },
  {
   "cell_type": "code",
   "execution_count": 56,
   "metadata": {},
   "outputs": [
    {
     "data": {
      "text/plain": [
       "'foreigner dragged out of supermarket after refusing to use hand sanitizer yet touching items on  shelves'"
      ]
     },
     "execution_count": 56,
     "metadata": {},
     "output_type": "execute_result"
    }
   ],
   "source": [
    "#Cleaned Tweet\n",
    "train[train['Location']=='Ghana']['Text'].iloc[0]"
   ]
  },
  {
   "cell_type": "code",
   "execution_count": 57,
   "metadata": {},
   "outputs": [
    {
     "data": {
      "text/plain": [
       "'2'"
      ]
     },
     "execution_count": 57,
     "metadata": {},
     "output_type": "execute_result"
    }
   ],
   "source": [
    "train[train['Location']=='Ghana']['Label'].iloc[0]"
   ]
  },
  {
   "cell_type": "markdown",
   "metadata": {},
   "source": [
    "### Data Eploration 2.0"
   ]
  },
  {
   "cell_type": "code",
   "execution_count": 58,
   "metadata": {},
   "outputs": [],
   "source": [
    "#Analysis of Sentiments\n",
    "#Positve = 2\n",
    "#Negative = 0\n",
    "#Neutral = 1"
   ]
  },
  {
   "cell_type": "code",
   "execution_count": 59,
   "metadata": {},
   "outputs": [
    {
     "data": {
      "text/plain": [
       "1        advice talk to your neighbours family to excha...\n",
       "2        coronavirus australia woolworths to give elder...\n",
       "3        my food stock is not the only one which is emp...\n",
       "5        as news of the regionâs first confirmed  case ...\n",
       "6        cashier at grocery store was sharing his insig...\n",
       "                               ...                        \n",
       "41146    prices rose to a more than 7year high today du...\n",
       "41148    uv light sterilizer sanitizer for your mask an...\n",
       "41150    i never that weâd be in a situation amp world ...\n",
       "41151    you are definitely my man i feel like this fal...\n",
       "41154    you know itâs getting tough when   is rationin...\n",
       "Name: Text, Length: 18046, dtype: object"
      ]
     },
     "execution_count": 59,
     "metadata": {},
     "output_type": "execute_result"
    }
   ],
   "source": [
    "train[train['Label']=='2']['Text']"
   ]
  },
  {
   "cell_type": "code",
   "execution_count": 60,
   "metadata": {},
   "outputs": [],
   "source": [
    "train_Copy = train.copy() "
   ]
  },
  {
   "cell_type": "code",
   "execution_count": 61,
   "metadata": {},
   "outputs": [
    {
     "data": {
      "text/plain": [
       "0                                                 and  and\n",
       "7        was at the supermarket today didnt buy toilet ...\n",
       "10       all month there hasnt been crowding in the sup...\n",
       "16                                            _        13_\n",
       "17       16mar20 russia consumer surveillance watchdog ...\n",
       "                               ...                        \n",
       "41141                                                     \n",
       "41143             is caused by  from         wants control\n",
       "41144    what does not having a supermarket nearby have...\n",
       "41152    airline pilots offering to stock supermarket s...\n",
       "41155    is it wrong that the smell of hand sanitizer i...\n",
       "Name: Text, Length: 7713, dtype: object"
      ]
     },
     "execution_count": 61,
     "metadata": {},
     "output_type": "execute_result"
    }
   ],
   "source": [
    "train[train['Label']== '1']['Text']"
   ]
  },
  {
   "cell_type": "code",
   "execution_count": 62,
   "metadata": {},
   "outputs": [
    {
     "data": {
      "text/plain": [
       "4        me ready to go at supermarket during the  outb...\n",
       "9        for corona preventionwe should stop to buy thi...\n",
       "20       with 100  nations inficted with    19  the wor...\n",
       "24       what is being done to ensure food and other es...\n",
       "26       in preparation for higher demand and a potenti...\n",
       "                               ...                        \n",
       "41133    a singaporean politician who slammed a woman s...\n",
       "41147         yâall really shitting that much more at home\n",
       "41149    still shocked by the number of  supermarket em...\n",
       "41153    response to complaint not provided citing  rel...\n",
       "41156    well newused rift s are going for 70000 on ama...\n",
       "Name: Text, Length: 15398, dtype: object"
      ]
     },
     "execution_count": 62,
     "metadata": {},
     "output_type": "execute_result"
    }
   ],
   "source": [
    "train[train['Label']== '0' ]['Text']"
   ]
  },
  {
   "cell_type": "code",
   "execution_count": 63,
   "metadata": {},
   "outputs": [
    {
     "data": {
      "text/plain": [
       "Text(0.5, 1.0, 'Positive')"
      ]
     },
     "execution_count": 63,
     "metadata": {},
     "output_type": "execute_result"
    },
    {
     "data": {
      "image/png": "[encoded data removed]",
      "text/plain": [
       "<Figure size 1080x360 with 3 Axes>"
      ]
     },
     "metadata": {
      "needs_background": "light"
     },
     "output_type": "display_data"
    }
   ],
   "source": [
    "#Number of Character\n",
    "fig,(ax1,ax2,ax3) = plt.subplots(1,3,figsize=(15,5))\n",
    "\n",
    "tweet_len = train[train['Label']== '1']['Text'].str.len()\n",
    "ax1.hist(tweet_len,color = 'r')\n",
    "ax1.set_title('Neutral')\n",
    "\n",
    "tweet_len = train[train['Label']== '0']['Text'].str.len()\n",
    "ax2.hist(tweet_len, color='b')\n",
    "ax2.set_title('Negative')\n",
    "\n",
    "tweet_len = train[train['Label']== '2']['Text'].str.len()\n",
    "ax3.hist(tweet_len, color = 'y')\n",
    "ax3.set_title('Positive')"
   ]
  },
  {
   "cell_type": "code",
   "execution_count": 64,
   "metadata": {},
   "outputs": [
    {
     "data": {
      "text/html": [
       "<div>\n",
       "<style scoped>\n",
       "    .dataframe tbody tr th:only-of-type {\n",
       "        vertical-align: middle;\n",
       "    }\n",
       "\n",
       "    .dataframe tbody tr th {\n",
       "        vertical-align: top;\n",
       "    }\n",
       "\n",
       "    .dataframe thead th {\n",
       "        text-align: right;\n",
       "    }\n",
       "</style>\n",
       "<table border=\"1\" class=\"dataframe\">\n",
       "  <thead>\n",
       "    <tr style=\"text-align: right;\">\n",
       "      <th></th>\n",
       "      <th>UserName</th>\n",
       "      <th>ScreenName</th>\n",
       "      <th>Location</th>\n",
       "      <th>TweetAt</th>\n",
       "      <th>OriginalTweet</th>\n",
       "      <th>Sentiment</th>\n",
       "      <th>Text</th>\n",
       "      <th>Length</th>\n",
       "      <th>Label</th>\n",
       "    </tr>\n",
       "  </thead>\n",
       "  <tbody>\n",
       "    <tr>\n",
       "      <th>0</th>\n",
       "      <td>3799</td>\n",
       "      <td>48751</td>\n",
       "      <td>London</td>\n",
       "      <td>16/03/2020</td>\n",
       "      <td>@MeNyrbie @Phil_Gahan @Chrisitv https://t.co/i...</td>\n",
       "      <td>Neutral</td>\n",
       "      <td>and  and</td>\n",
       "      <td>111</td>\n",
       "      <td>1</td>\n",
       "    </tr>\n",
       "    <tr>\n",
       "      <th>1</th>\n",
       "      <td>3800</td>\n",
       "      <td>48752</td>\n",
       "      <td>UK</td>\n",
       "      <td>16/03/2020</td>\n",
       "      <td>advice Talk to your neighbours family to excha...</td>\n",
       "      <td>Positive</td>\n",
       "      <td>advice talk to your neighbours family to excha...</td>\n",
       "      <td>237</td>\n",
       "      <td>2</td>\n",
       "    </tr>\n",
       "    <tr>\n",
       "      <th>2</th>\n",
       "      <td>3801</td>\n",
       "      <td>48753</td>\n",
       "      <td>Vagabonds</td>\n",
       "      <td>16/03/2020</td>\n",
       "      <td>Coronavirus Australia: Woolworths to give elde...</td>\n",
       "      <td>Positive</td>\n",
       "      <td>coronavirus australia woolworths to give elder...</td>\n",
       "      <td>131</td>\n",
       "      <td>2</td>\n",
       "    </tr>\n",
       "    <tr>\n",
       "      <th>3</th>\n",
       "      <td>3802</td>\n",
       "      <td>48754</td>\n",
       "      <td>NaN</td>\n",
       "      <td>16/03/2020</td>\n",
       "      <td>My food stock is not the only one which is emp...</td>\n",
       "      <td>Positive</td>\n",
       "      <td>my food stock is not the only one which is emp...</td>\n",
       "      <td>306</td>\n",
       "      <td>2</td>\n",
       "    </tr>\n",
       "    <tr>\n",
       "      <th>4</th>\n",
       "      <td>3803</td>\n",
       "      <td>48755</td>\n",
       "      <td>NaN</td>\n",
       "      <td>16/03/2020</td>\n",
       "      <td>Me, ready to go at supermarket during the #COV...</td>\n",
       "      <td>Extremely Negative</td>\n",
       "      <td>me ready to go at supermarket during the  outb...</td>\n",
       "      <td>310</td>\n",
       "      <td>0</td>\n",
       "    </tr>\n",
       "  </tbody>\n",
       "</table>\n",
       "</div>"
      ],
      "text/plain": [
       "   UserName  ScreenName   Location     TweetAt  \\\n",
       "0      3799       48751     London  16/03/2020   \n",
       "1      3800       48752         UK  16/03/2020   \n",
       "2      3801       48753  Vagabonds  16/03/2020   \n",
       "3      3802       48754        NaN  16/03/2020   \n",
       "4      3803       48755        NaN  16/03/2020   \n",
       "\n",
       "                                       OriginalTweet           Sentiment  \\\n",
       "0  @MeNyrbie @Phil_Gahan @Chrisitv https://t.co/i...             Neutral   \n",
       "1  advice Talk to your neighbours family to excha...            Positive   \n",
       "2  Coronavirus Australia: Woolworths to give elde...            Positive   \n",
       "3  My food stock is not the only one which is emp...            Positive   \n",
       "4  Me, ready to go at supermarket during the #COV...  Extremely Negative   \n",
       "\n",
       "                                                Text  Length Label  \n",
       "0                                           and  and     111     1  \n",
       "1  advice talk to your neighbours family to excha...     237     2  \n",
       "2  coronavirus australia woolworths to give elder...     131     2  \n",
       "3  my food stock is not the only one which is emp...     306     2  \n",
       "4  me ready to go at supermarket during the  outb...     310     0  "
      ]
     },
     "execution_count": 64,
     "metadata": {},
     "output_type": "execute_result"
    }
   ],
   "source": [
    "train.head()"
   ]
  },
  {
   "cell_type": "markdown",
   "metadata": {},
   "source": [
    "### WordCloud"
   ]
  },
  {
   "cell_type": "code",
   "execution_count": 65,
   "metadata": {},
   "outputs": [],
   "source": [
    "#Importing models for WordCloud \n",
    "from wordcloud import WordCloud, STOPWORDS,ImageColorGenerator\n",
    "from PIL import Image"
   ]
  },
  {
   "cell_type": "code",
   "execution_count": 66,
   "metadata": {},
   "outputs": [],
   "source": [
    "stopwords = set(STOPWORDS)"
   ]
  },
  {
   "cell_type": "code",
   "execution_count": 67,
   "metadata": {},
   "outputs": [],
   "source": [
    "Negative_Text = train[train['Label']=='0']\n",
    "Neutral_Text = train[train['Label']=='1']\n",
    "Positive_Text = train[train['Label']=='2']"
   ]
  },
  {
   "cell_type": "code",
   "execution_count": 68,
   "metadata": {},
   "outputs": [
    {
     "data": {
      "text/plain": [
       "1        advice talk to your neighbours family to excha...\n",
       "2        coronavirus australia woolworths to give elder...\n",
       "3        my food stock is not the only one which is emp...\n",
       "5        as news of the regionâs first confirmed  case ...\n",
       "6        cashier at grocery store was sharing his insig...\n",
       "                               ...                        \n",
       "41146    prices rose to a more than 7year high today du...\n",
       "41148    uv light sterilizer sanitizer for your mask an...\n",
       "41150    i never that weâd be in a situation amp world ...\n",
       "41151    you are definitely my man i feel like this fal...\n",
       "41154    you know itâs getting tough when   is rationin...\n",
       "Name: Text, Length: 18046, dtype: object"
      ]
     },
     "execution_count": 68,
     "metadata": {},
     "output_type": "execute_result"
    }
   ],
   "source": [
    "Positive_Text.Text"
   ]
  },
  {
   "cell_type": "code",
   "execution_count": 69,
   "metadata": {},
   "outputs": [
    {
     "data": {
      "image/png": "[encoded data removed]",
      "text/plain": [
       "<Figure size 432x288 with 1 Axes>"
      ]
     },
     "metadata": {
      "needs_background": "light"
     },
     "output_type": "display_data"
    },
    {
     "data": {
      "text/plain": [
       "<Figure size 432x288 with 0 Axes>"
      ]
     },
     "metadata": {},
     "output_type": "display_data"
    }
   ],
   "source": [
    "Text_words =''\n",
    "\n",
    "for val in Positive_Text.Text:\n",
    "    \n",
    "    #Converting text into strings\n",
    "    val = str(val)\n",
    "    \n",
    "    #Split values to get words\n",
    "    tokens = val.split()\n",
    "    \n",
    "    #Get the lowercase of the values\n",
    "    for i in range(len(tokens)):\n",
    "        tokens[i] = tokens[i].lower()\n",
    "    \n",
    "    Text_words += ' '.join(tokens)+' '\n",
    "\n",
    "custom_mask = np.array(Image.open(r'C:\\Users\\User\\Desktop\\Data Analysis\\Saved\\WordTwit.png'))\n",
    "WC =WordCloud(width = 1000, height = 1000,\n",
    "                contour_width = 3,\n",
    "                contour_color = 'black',\n",
    "                background_color ='white',\n",
    "                colormap=\"Blues_r\",\n",
    "                mask = custom_mask, \n",
    "                stopwords = stopwords, \n",
    "                min_font_size = 10).generate(Text_words)\n",
    "plt.imshow(WC, interpolation='bilinear')\n",
    "plt.axis('off')\n",
    "plt.show()\n",
    "plt.savefig(r'C:\\Users\\User\\Desktop\\Data Analysis\\Saved\\Twit11')"
   ]
  },
  {
   "cell_type": "code",
   "execution_count": 70,
   "metadata": {},
   "outputs": [
    {
     "data": {
      "image/png": "[encoded data removed]",
      "text/plain": [
       "<Figure size 432x288 with 1 Axes>"
      ]
     },
     "metadata": {
      "needs_background": "light"
     },
     "output_type": "display_data"
    },
    {
     "data": {
      "text/plain": [
       "<Figure size 432x288 with 0 Axes>"
      ]
     },
     "metadata": {},
     "output_type": "display_data"
    }
   ],
   "source": [
    "Text_words =''\n",
    "\n",
    "for val in Neutral_Text.Text:\n",
    "    \n",
    "    #Converting text into strings\n",
    "    val = str(val)\n",
    "    \n",
    "    #Split values to get words\n",
    "    tokens = val.split()\n",
    "    \n",
    "    #Get the lowercase of the values\n",
    "    for i in range(len(tokens)):\n",
    "        tokens[i] = tokens[i].lower()\n",
    "    \n",
    "    Text_words += ' '.join(tokens)+' '\n",
    "custom_mask = np.array(Image.open(r'C:\\Users\\User\\Desktop\\Data Analysis\\Saved\\WordTwit.png'))\n",
    "WC =WordCloud(width = 800, height = 800, \n",
    "                contour_width = 3,\n",
    "                contour_color = 'Black',\n",
    "                background_color ='white',\n",
    "                colormap=\"Greens_r\",\n",
    "                mask = custom_mask,\n",
    "                stopwords = stopwords, \n",
    "                min_font_size = 10) .generate(Text_words)\n",
    "plt.imshow(WC,interpolation='bilinear')\n",
    "plt.axis('off')\n",
    "plt.show()\n",
    "plt.savefig(r'C:\\Users\\User\\Desktop\\Data Analysis\\Saved\\Twit12')"
   ]
  },
  {
   "cell_type": "code",
   "execution_count": 71,
   "metadata": {},
   "outputs": [
    {
     "data": {
      "image/png": "[encoded data removed]",
      "text/plain": [
       "<Figure size 432x288 with 1 Axes>"
      ]
     },
     "metadata": {
      "needs_background": "light"
     },
     "output_type": "display_data"
    },
    {
     "data": {
      "text/plain": [
       "<Figure size 432x288 with 0 Axes>"
      ]
     },
     "metadata": {},
     "output_type": "display_data"
    }
   ],
   "source": [
    "Text_words =''\n",
    "\n",
    "for val in Negative_Text.Text:\n",
    "    \n",
    "    #Converting text into strings\n",
    "    val = str(val)\n",
    "    \n",
    "    #Split values to get words\n",
    "    tokens = val.split()\n",
    "    \n",
    "    #Get the lowercase of the values\n",
    "    for i in range(len(tokens)):\n",
    "        tokens[i] = tokens[i].lower()\n",
    "    \n",
    "    Text_words += ' '.join(tokens)+' '\n",
    "\n",
    "custom_mask = np.array(Image.open(r'C:\\Users\\User\\Desktop\\Data Analysis\\Saved\\WordTwit.png'))\n",
    "WC =WordCloud(width = 800, height = 800,\n",
    "                contour_width = 3,\n",
    "                contour_color = 'black',\n",
    "                background_color ='white',\n",
    "                colormap=\"Reds_r\",\n",
    "                stopwords = stopwords,\n",
    "                mask = custom_mask,\n",
    "                min_font_size = 10).generate(Text_words) \n",
    "\n",
    "plt.imshow(WC,interpolation='bilinear')\n",
    "plt.axis('off')\n",
    "plt.show()\n",
    "plt.savefig(r'C:\\Users\\User\\Desktop\\Data Analysis\\Saved\\Twit13')"
   ]
  },
  {
   "cell_type": "markdown",
   "metadata": {},
   "source": [
    "## Text Vectorizing and Transformation"
   ]
  },
  {
   "cell_type": "code",
   "execution_count": 72,
   "metadata": {},
   "outputs": [],
   "source": [
    "#Tfidf Vectorizer to vectorze the text\n",
    "from sklearn.feature_extraction.text import TfidfVectorizer, CountVectorizer,TfidfTransformer"
   ]
  },
  {
   "cell_type": "code",
   "execution_count": 73,
   "metadata": {},
   "outputs": [
    {
     "data": {
      "text/html": [
       "<div>\n",
       "<style scoped>\n",
       "    .dataframe tbody tr th:only-of-type {\n",
       "        vertical-align: middle;\n",
       "    }\n",
       "\n",
       "    .dataframe tbody tr th {\n",
       "        vertical-align: top;\n",
       "    }\n",
       "\n",
       "    .dataframe thead th {\n",
       "        text-align: right;\n",
       "    }\n",
       "</style>\n",
       "<table border=\"1\" class=\"dataframe\">\n",
       "  <thead>\n",
       "    <tr style=\"text-align: right;\">\n",
       "      <th></th>\n",
       "      <th>UserName</th>\n",
       "      <th>ScreenName</th>\n",
       "      <th>Location</th>\n",
       "      <th>TweetAt</th>\n",
       "      <th>OriginalTweet</th>\n",
       "      <th>Sentiment</th>\n",
       "      <th>Text</th>\n",
       "      <th>Length</th>\n",
       "      <th>Label</th>\n",
       "    </tr>\n",
       "  </thead>\n",
       "  <tbody>\n",
       "    <tr>\n",
       "      <th>0</th>\n",
       "      <td>3799</td>\n",
       "      <td>48751</td>\n",
       "      <td>London</td>\n",
       "      <td>16/03/2020</td>\n",
       "      <td>@MeNyrbie @Phil_Gahan @Chrisitv https://t.co/i...</td>\n",
       "      <td>Neutral</td>\n",
       "      <td>and  and</td>\n",
       "      <td>111.0</td>\n",
       "      <td>1</td>\n",
       "    </tr>\n",
       "    <tr>\n",
       "      <th>1</th>\n",
       "      <td>3800</td>\n",
       "      <td>48752</td>\n",
       "      <td>UK</td>\n",
       "      <td>16/03/2020</td>\n",
       "      <td>advice Talk to your neighbours family to excha...</td>\n",
       "      <td>Positive</td>\n",
       "      <td>advice talk to your neighbours family to excha...</td>\n",
       "      <td>237.0</td>\n",
       "      <td>2</td>\n",
       "    </tr>\n",
       "    <tr>\n",
       "      <th>2</th>\n",
       "      <td>3801</td>\n",
       "      <td>48753</td>\n",
       "      <td>Vagabonds</td>\n",
       "      <td>16/03/2020</td>\n",
       "      <td>Coronavirus Australia: Woolworths to give elde...</td>\n",
       "      <td>Positive</td>\n",
       "      <td>coronavirus australia woolworths to give elder...</td>\n",
       "      <td>131.0</td>\n",
       "      <td>2</td>\n",
       "    </tr>\n",
       "    <tr>\n",
       "      <th>3</th>\n",
       "      <td>3802</td>\n",
       "      <td>48754</td>\n",
       "      <td>NaN</td>\n",
       "      <td>16/03/2020</td>\n",
       "      <td>My food stock is not the only one which is emp...</td>\n",
       "      <td>Positive</td>\n",
       "      <td>my food stock is not the only one which is emp...</td>\n",
       "      <td>306.0</td>\n",
       "      <td>2</td>\n",
       "    </tr>\n",
       "    <tr>\n",
       "      <th>4</th>\n",
       "      <td>3803</td>\n",
       "      <td>48755</td>\n",
       "      <td>NaN</td>\n",
       "      <td>16/03/2020</td>\n",
       "      <td>Me, ready to go at supermarket during the #COV...</td>\n",
       "      <td>Extremely Negative</td>\n",
       "      <td>me ready to go at supermarket during the  outb...</td>\n",
       "      <td>310.0</td>\n",
       "      <td>0</td>\n",
       "    </tr>\n",
       "    <tr>\n",
       "      <th>...</th>\n",
       "      <td>...</td>\n",
       "      <td>...</td>\n",
       "      <td>...</td>\n",
       "      <td>...</td>\n",
       "      <td>...</td>\n",
       "      <td>...</td>\n",
       "      <td>...</td>\n",
       "      <td>...</td>\n",
       "      <td>...</td>\n",
       "    </tr>\n",
       "    <tr>\n",
       "      <th>3793</th>\n",
       "      <td>3794</td>\n",
       "      <td>48746</td>\n",
       "      <td>Israel ??</td>\n",
       "      <td>16/03/2020</td>\n",
       "      <td>Meanwhile In A Supermarket in Israel -- People...</td>\n",
       "      <td>Positive</td>\n",
       "      <td>meanwhile in a supermarket in israel  people d...</td>\n",
       "      <td>NaN</td>\n",
       "      <td>2</td>\n",
       "    </tr>\n",
       "    <tr>\n",
       "      <th>3794</th>\n",
       "      <td>3795</td>\n",
       "      <td>48747</td>\n",
       "      <td>Farmington, NM</td>\n",
       "      <td>16/03/2020</td>\n",
       "      <td>Did you panic buy a lot of non-perishable item...</td>\n",
       "      <td>Negative</td>\n",
       "      <td>did you panic buy a lot of nonperishable items...</td>\n",
       "      <td>NaN</td>\n",
       "      <td>0</td>\n",
       "    </tr>\n",
       "    <tr>\n",
       "      <th>3795</th>\n",
       "      <td>3796</td>\n",
       "      <td>48748</td>\n",
       "      <td>Haverford, PA</td>\n",
       "      <td>16/03/2020</td>\n",
       "      <td>Asst Prof of Economics @cconces was on @NBCPhi...</td>\n",
       "      <td>Neutral</td>\n",
       "      <td>asst prof of economics  was on  talking about ...</td>\n",
       "      <td>NaN</td>\n",
       "      <td>1</td>\n",
       "    </tr>\n",
       "    <tr>\n",
       "      <th>3796</th>\n",
       "      <td>3797</td>\n",
       "      <td>48749</td>\n",
       "      <td>NaN</td>\n",
       "      <td>16/03/2020</td>\n",
       "      <td>Gov need to do somethings instead of biar je r...</td>\n",
       "      <td>Extremely Negative</td>\n",
       "      <td>gov need to do somethings instead of biar je r...</td>\n",
       "      <td>NaN</td>\n",
       "      <td>0</td>\n",
       "    </tr>\n",
       "    <tr>\n",
       "      <th>3797</th>\n",
       "      <td>3798</td>\n",
       "      <td>48750</td>\n",
       "      <td>Arlington, Virginia</td>\n",
       "      <td>16/03/2020</td>\n",
       "      <td>I and @ForestandPaper members are committed to...</td>\n",
       "      <td>Extremely Positive</td>\n",
       "      <td>i and  members are committed to the safety of ...</td>\n",
       "      <td>NaN</td>\n",
       "      <td>2</td>\n",
       "    </tr>\n",
       "  </tbody>\n",
       "</table>\n",
       "<p>44955 rows × 9 columns</p>\n",
       "</div>"
      ],
      "text/plain": [
       "      UserName  ScreenName             Location     TweetAt  \\\n",
       "0         3799       48751               London  16/03/2020   \n",
       "1         3800       48752                   UK  16/03/2020   \n",
       "2         3801       48753            Vagabonds  16/03/2020   \n",
       "3         3802       48754                  NaN  16/03/2020   \n",
       "4         3803       48755                  NaN  16/03/2020   \n",
       "...        ...         ...                  ...         ...   \n",
       "3793      3794       48746            Israel ??  16/03/2020   \n",
       "3794      3795       48747       Farmington, NM  16/03/2020   \n",
       "3795      3796       48748        Haverford, PA  16/03/2020   \n",
       "3796      3797       48749                  NaN  16/03/2020   \n",
       "3797      3798       48750  Arlington, Virginia  16/03/2020   \n",
       "\n",
       "                                          OriginalTweet           Sentiment  \\\n",
       "0     @MeNyrbie @Phil_Gahan @Chrisitv https://t.co/i...             Neutral   \n",
       "1     advice Talk to your neighbours family to excha...            Positive   \n",
       "2     Coronavirus Australia: Woolworths to give elde...            Positive   \n",
       "3     My food stock is not the only one which is emp...            Positive   \n",
       "4     Me, ready to go at supermarket during the #COV...  Extremely Negative   \n",
       "...                                                 ...                 ...   \n",
       "3793  Meanwhile In A Supermarket in Israel -- People...            Positive   \n",
       "3794  Did you panic buy a lot of non-perishable item...            Negative   \n",
       "3795  Asst Prof of Economics @cconces was on @NBCPhi...             Neutral   \n",
       "3796  Gov need to do somethings instead of biar je r...  Extremely Negative   \n",
       "3797  I and @ForestandPaper members are committed to...  Extremely Positive   \n",
       "\n",
       "                                                   Text  Length Label  \n",
       "0                                              and  and   111.0     1  \n",
       "1     advice talk to your neighbours family to excha...   237.0     2  \n",
       "2     coronavirus australia woolworths to give elder...   131.0     2  \n",
       "3     my food stock is not the only one which is emp...   306.0     2  \n",
       "4     me ready to go at supermarket during the  outb...   310.0     0  \n",
       "...                                                 ...     ...   ...  \n",
       "3793  meanwhile in a supermarket in israel  people d...     NaN     2  \n",
       "3794  did you panic buy a lot of nonperishable items...     NaN     0  \n",
       "3795  asst prof of economics  was on  talking about ...     NaN     1  \n",
       "3796  gov need to do somethings instead of biar je r...     NaN     0  \n",
       "3797  i and  members are committed to the safety of ...     NaN     2  \n",
       "\n",
       "[44955 rows x 9 columns]"
      ]
     },
     "execution_count": 73,
     "metadata": {},
     "output_type": "execute_result"
    }
   ],
   "source": [
    "Data = pd.concat([train,test])\n",
    "Data"
   ]
  },
  {
   "cell_type": "markdown",
   "metadata": {},
   "source": [
    "## Tfidf transformation"
   ]
  },
  {
   "cell_type": "code",
   "execution_count": 74,
   "metadata": {},
   "outputs": [],
   "source": [
    "from sklearn.model_selection import train_test_split"
   ]
  },
  {
   "cell_type": "code",
   "execution_count": 75,
   "metadata": {},
   "outputs": [
    {
     "name": "stdout",
     "output_type": "stream",
     "text": [
      "49894\n"
     ]
    }
   ],
   "source": [
    "#Bag of Words transformation\n",
    "X = train['Text'].tolist()\n",
    "Y = train['Label'].tolist()\n",
    "BOW_Transformer = CountVectorizer(strip_accents = 'unicode',stop_words = 'english').fit(X)\n",
    "print(len(BOW_Transformer.vocabulary_))"
   ]
  },
  {
   "cell_type": "code",
   "execution_count": 76,
   "metadata": {},
   "outputs": [
    {
     "data": {
      "text/plain": [
       "'foreigner dragged out of supermarket after refusing to use hand sanitizer yet touching items on  shelves'"
      ]
     },
     "execution_count": 76,
     "metadata": {},
     "output_type": "execute_result"
    }
   ],
   "source": [
    "#Example\n",
    "\n",
    "Ex1 = train[train['Location']=='Ghana']['Text'].iloc[0]\n",
    "Ex1"
   ]
  },
  {
   "cell_type": "code",
   "execution_count": 77,
   "metadata": {},
   "outputs": [
    {
     "name": "stdout",
     "output_type": "stream",
     "text": [
      "  (0, 15179)\t1\n",
      "  (0, 18711)\t1\n",
      "  (0, 20990)\t1\n",
      "  (0, 24273)\t1\n",
      "  (0, 36684)\t1\n",
      "  (0, 38621)\t1\n",
      "  (0, 39903)\t1\n",
      "  (0, 43030)\t1\n",
      "  (0, 45339)\t1\n",
      "  (0, 46940)\t1\n",
      "(1, 49894)\n"
     ]
    }
   ],
   "source": [
    "#Example\n",
    "Ex1_BOW = BOW_Transformer.transform([Ex1])\n",
    "print(Ex1_BOW)\n",
    "print(Ex1_BOW.shape)"
   ]
  },
  {
   "cell_type": "code",
   "execution_count": 78,
   "metadata": {},
   "outputs": [
    {
     "name": "stdout",
     "output_type": "stream",
     "text": [
      "dragged\n",
      "foreigner\n",
      "hand\n",
      "items\n",
      "refusing\n",
      "shelves\n",
      "supermarket\n",
      "touching\n",
      "use\n"
     ]
    }
   ],
   "source": [
    "#Example\n",
    "print(BOW_Transformer.get_feature_names()[15179])\n",
    "print(BOW_Transformer.get_feature_names()[18711])\n",
    "print(BOW_Transformer.get_feature_names()[20990])\n",
    "print(BOW_Transformer.get_feature_names()[24273])\n",
    "print(BOW_Transformer.get_feature_names()[36684])\n",
    "print(BOW_Transformer.get_feature_names()[39903])\n",
    "print(BOW_Transformer.get_feature_names()[43030])\n",
    "print(BOW_Transformer.get_feature_names()[45339])\n",
    "print(BOW_Transformer.get_feature_names()[46940])"
   ]
  },
  {
   "cell_type": "code",
   "execution_count": 79,
   "metadata": {},
   "outputs": [],
   "source": [
    "#Bag of Words Transformation\n",
    "features = BOW_Transformer.transform(X)"
   ]
  },
  {
   "cell_type": "code",
   "execution_count": 80,
   "metadata": {},
   "outputs": [
    {
     "name": "stdout",
     "output_type": "stream",
     "text": [
      "(41157, 49894)\n"
     ]
    }
   ],
   "source": [
    "print(features.shape)"
   ]
  },
  {
   "cell_type": "code",
   "execution_count": 81,
   "metadata": {},
   "outputs": [
    {
     "name": "stdout",
     "output_type": "stream",
     "text": [
      "568383\n"
     ]
    }
   ],
   "source": [
    "print(features.nnz)"
   ]
  },
  {
   "cell_type": "code",
   "execution_count": 82,
   "metadata": {},
   "outputs": [],
   "source": [
    "#Tdidf transformation\n",
    "\n",
    "tfidf = TfidfTransformer().fit(features)"
   ]
  },
  {
   "cell_type": "code",
   "execution_count": 83,
   "metadata": {},
   "outputs": [
    {
     "name": "stdout",
     "output_type": "stream",
     "text": [
      "  (0, 46940)\t0.2363622739903636\n",
      "  (0, 45339)\t0.34880824432847807\n",
      "  (0, 43030)\t0.13921225597519954\n",
      "  (0, 39903)\t0.21779361464771008\n",
      "  (0, 38621)\t0.1970120301211371\n",
      "  (0, 36684)\t0.3796940689159196\n",
      "  (0, 24273)\t0.24097394940251826\n",
      "  (0, 20990)\t0.19787247897262497\n",
      "  (0, 18711)\t0.5308971918681252\n",
      "  (0, 15179)\t0.4399959736023845\n"
     ]
    }
   ],
   "source": [
    "#Example\n",
    "Ex1_tfidf = tfidf.transform(Ex1_BOW)\n",
    "print(Ex1_tfidf)"
   ]
  },
  {
   "cell_type": "code",
   "execution_count": 84,
   "metadata": {},
   "outputs": [
    {
     "name": "stdout",
     "output_type": "stream",
     "text": [
      "4.867079093474763\n"
     ]
    }
   ],
   "source": [
    "#Example\n",
    "print(tfidf.idf_[BOW_Transformer.vocabulary_['use']])"
   ]
  },
  {
   "cell_type": "code",
   "execution_count": 85,
   "metadata": {},
   "outputs": [],
   "source": [
    "#Tfidf transformation\n",
    "X_feautres = tfidf.transform(features)"
   ]
  },
  {
   "cell_type": "code",
   "execution_count": 86,
   "metadata": {},
   "outputs": [
    {
     "name": "stdout",
     "output_type": "stream",
     "text": [
      "shape of transformed text (41157, 49894)\n",
      "568383\n"
     ]
    }
   ],
   "source": [
    "print('shape of transformed text', X_feautres.shape)\n",
    "print(X_feautres.nnz)"
   ]
  },
  {
   "cell_type": "code",
   "execution_count": 87,
   "metadata": {},
   "outputs": [],
   "source": [
    "#Model\n",
    "from sklearn.svm import LinearSVC\n",
    "from sklearn.ensemble import RandomForestClassifier\n",
    "from sklearn.naive_bayes import MultinomialNB\n",
    "from sklearn.pipeline import Pipeline\n",
    "from sklearn.metrics import classification_report, confusion_matrix, accuracy_score\n",
    "from sklearn.model_selection import cross_val_score\n",
    "from sklearn.model_selection import train_test_split"
   ]
  },
  {
   "cell_type": "code",
   "execution_count": 88,
   "metadata": {},
   "outputs": [],
   "source": [
    "X = X_feautres\n",
    "Y = train['Label']\n",
    "X_train,X_test,Y_train,Y_test = train_test_split(X_feautres, Y, test_size = 0.3, random_state = 101, shuffle = True, \n",
    "                                                 stratify = Y)"
   ]
  },
  {
   "cell_type": "code",
   "execution_count": 89,
   "metadata": {},
   "outputs": [
    {
     "name": "stdout",
     "output_type": "stream",
     "text": [
      "The Accuracy score is 0.968\n",
      "\n",
      "              precision    recall  f1-score   support\n",
      "\n",
      "           0       0.97      0.97      0.97      4620\n",
      "           1       0.97      0.94      0.96      2314\n",
      "           2       0.97      0.98      0.97      5414\n",
      "\n",
      "    accuracy                           0.97     12348\n",
      "   macro avg       0.97      0.96      0.97     12348\n",
      "weighted avg       0.97      0.97      0.97     12348\n",
      "\n",
      "\n",
      "[[4480   36  104]\n",
      " [  64 2169   81]\n",
      " [  84   21 5309]]\n"
     ]
    }
   ],
   "source": [
    "\n",
    "Y_pre_train = LSVC.predict(X_train)#Liner Support Component\n",
    "LSVC = LinearSVC()\n",
    "LSVC.fit(X_feautres,train['Label'])\n",
    "\n",
    "Y_pre_test = LSVC.predict(X_test)\n",
    "\n",
    "#Model Performance\n",
    "print('The Accuracy score is %0.3f' % accuracy_score(Y_test,Y_pre_test))\n",
    "print()\n",
    "print(classification_report(Y_test,Y_pre_test))\n",
    "print()\n",
    "print(confusion_matrix(Y_test,Y_pre_test))"
   ]
  },
  {
   "cell_type": "code",
   "execution_count": 90,
   "metadata": {},
   "outputs": [
    {
     "name": "stdout",
     "output_type": "stream",
     "text": [
      "The Accuracy score is 0.457\n",
      "\n",
      "              precision    recall  f1-score   support\n",
      "\n",
      "           0       0.49      0.30      0.38      1633\n",
      "           1       0.63      0.14      0.23       619\n",
      "           2       0.43      0.74      0.55      1546\n",
      "\n",
      "    accuracy                           0.46      3798\n",
      "   macro avg       0.52      0.40      0.39      3798\n",
      "weighted avg       0.49      0.46      0.42      3798\n",
      "\n",
      "\n",
      "[[ 498   18 1117]\n",
      " [ 154   89  376]\n",
      " [ 364   34 1148]]\n"
     ]
    }
   ],
   "source": [
    "#Liner Support Component\n",
    "LSVC_Pipeline = Pipeline([('BOW', CountVectorizer(analyzer= text_cleaning)),\n",
    "                      ('tfidf', TfidfTransformer()),\n",
    "                      ('Model', LinearSVC())])\n",
    "LSVC_Pipeline.fit(train['Text'],train['Label'])\n",
    "Test_Predictions = LSVC_Pipeline.predict(test['Text'])\n",
    "\n",
    "#Performance\n",
    "print('The Accuracy score is %0.3f' % accuracy_score(test['Label'],Test_Predictions))\n",
    "print()\n",
    "print(classification_report(test['Label'],Test_Predictions))\n",
    "print()\n",
    "print(confusion_matrix(test['Label'],Test_Predictions))"
   ]
  },
  {
   "cell_type": "code",
   "execution_count": 91,
   "metadata": {},
   "outputs": [
    {
     "name": "stdout",
     "output_type": "stream",
     "text": [
      "The Accuracy score is 1.000\n",
      "\n",
      "              precision    recall  f1-score   support\n",
      "\n",
      "           0       1.00      1.00      1.00      4620\n",
      "           1       1.00      1.00      1.00      2314\n",
      "           2       1.00      1.00      1.00      5414\n",
      "\n",
      "    accuracy                           1.00     12348\n",
      "   macro avg       1.00      1.00      1.00     12348\n",
      "weighted avg       1.00      1.00      1.00     12348\n",
      "\n",
      "\n",
      "[[4618    2    0]\n",
      " [   0 2314    0]\n",
      " [   0    0 5414]]\n"
     ]
    }
   ],
   "source": [
    "#Random Forest Classifer\n",
    "RFC = RandomForestClassifier()\n",
    "RFC.fit(X_feautres,train['Label'])\n",
    "\n",
    "Y_pre_train = RFC.predict(X_train)\n",
    "Y_pre_test = RFC.predict(X_test)\n",
    "\n",
    "#Model Performance\n",
    "print('The Accuracy score is %0.3f' % accuracy_score(Y_test,Y_pre_test))\n",
    "print()\n",
    "print(classification_report(Y_test,Y_pre_test))\n",
    "print()\n",
    "print(confusion_matrix(Y_test,Y_pre_test))"
   ]
  },
  {
   "cell_type": "code",
   "execution_count": 92,
   "metadata": {},
   "outputs": [
    {
     "name": "stdout",
     "output_type": "stream",
     "text": [
      "The Accuracy score is 0.474\n",
      "\n",
      "              precision    recall  f1-score   support\n",
      "\n",
      "           0       0.49      0.38      0.43      1633\n",
      "           1       0.57      0.28      0.38       619\n",
      "           2       0.45      0.65      0.53      1546\n",
      "\n",
      "    accuracy                           0.47      3798\n",
      "   macro avg       0.50      0.44      0.45      3798\n",
      "weighted avg       0.49      0.47      0.46      3798\n",
      "\n",
      "\n",
      "[[628  60 945]\n",
      " [173 175 271]\n",
      " [474  74 998]]\n"
     ]
    }
   ],
   "source": [
    "#Random Forest Classifier\n",
    "RFC_Pipeline = Pipeline([('BOW', CountVectorizer(analyzer= text_cleaning)),\n",
    "                      ('tfidf', TfidfTransformer()),\n",
    "                      ('Model', RandomForestClassifier())])\n",
    "RFC_Pipeline.fit(train['Text'],train['Label'])\n",
    "Test_Predictions = RFC_Pipeline.predict(test['Text'])\n",
    "\n",
    "#Performance\n",
    "print('The Accuracy score is %0.3f' % accuracy_score(test['Label'],Test_Predictions))\n",
    "print()\n",
    "print(classification_report(test['Label'],Test_Predictions))\n",
    "print()\n",
    "print(confusion_matrix(test['Label'],Test_Predictions))"
   ]
  },
  {
   "cell_type": "code",
   "execution_count": 93,
   "metadata": {},
   "outputs": [
    {
     "name": "stdout",
     "output_type": "stream",
     "text": [
      "The Accuracy score is 0.736\n",
      "\n",
      "              precision    recall  f1-score   support\n",
      "\n",
      "           0       0.83      0.80      0.82      4620\n",
      "           1       0.99      0.09      0.16      2314\n",
      "           2       0.68      0.96      0.79      5414\n",
      "\n",
      "    accuracy                           0.74     12348\n",
      "   macro avg       0.83      0.62      0.59     12348\n",
      "weighted avg       0.79      0.74      0.68     12348\n",
      "\n",
      "\n",
      "[[3716    0  904]\n",
      " [ 542  205 1567]\n",
      " [ 240    2 5172]]\n"
     ]
    }
   ],
   "source": [
    "#MultinomialNB\n",
    "MNB = MultinomialNB()\n",
    "MNB.fit(X_feautres,train['Label'])\n",
    "\n",
    "Y_pre_train = MNB.predict(X_train)\n",
    "Y_pre_test = MNB.predict(X_test)\n",
    "\n",
    "#Model Performance\n",
    "print('The Accuracy score is %0.3f' % accuracy_score(Y_test,Y_pre_test))\n",
    "print()\n",
    "print(classification_report(Y_test,Y_pre_test))\n",
    "print()\n",
    "print(confusion_matrix(Y_test,Y_pre_test))"
   ]
  },
  {
   "cell_type": "code",
   "execution_count": 94,
   "metadata": {},
   "outputs": [
    {
     "name": "stdout",
     "output_type": "stream",
     "text": [
      "The Accuracy score is 0.408\n",
      "\n",
      "Classification Report\n",
      "              precision    recall  f1-score   support\n",
      "\n",
      "           0       0.50      0.00      0.00      1633\n",
      "           1       0.50      0.00      0.00       619\n",
      "           2       0.41      1.00      0.58      1546\n",
      "\n",
      "    accuracy                           0.41      3798\n",
      "   macro avg       0.47      0.33      0.19      3798\n",
      "weighted avg       0.46      0.41      0.24      3798\n",
      "\n",
      "\n",
      "Confusion Matrix\n",
      "[[   2    1 1630]\n",
      " [   1    1  617]\n",
      " [   1    0 1545]]\n"
     ]
    }
   ],
   "source": [
    "#MultinomialNB\n",
    "MNB_Pipeline = Pipeline([('BOW', CountVectorizer(analyzer= text_cleaning)),\n",
    "                      ('tfidf', TfidfTransformer()),\n",
    "                      ('Model', MultinomialNB())])\n",
    "MNB_Pipeline.fit(train['Text'],train['Label'])\n",
    "Test_Predictions = MNB_Pipeline.predict(test['Text'])\n",
    "\n",
    "#Performance\n",
    "print('The Accuracy score is %0.3f' % accuracy_score(test['Label'],Test_Predictions))\n",
    "print()\n",
    "print('Classification Report')\n",
    "print(classification_report(test['Label'],Test_Predictions))\n",
    "print()\n",
    "print('Confusion Matrix')\n",
    "print(confusion_matrix(test['Label'],Test_Predictions))"
   ]
  },
  {
   "cell_type": "code",
   "execution_count": null,
   "metadata": {},
   "outputs": [],
   "source": []
  },
  {
   "cell_type": "code",
   "execution_count": null,
   "metadata": {},
   "outputs": [],
   "source": []
  },
  {
   "cell_type": "code",
   "execution_count": null,
   "metadata": {},
   "outputs": [],
   "source": []
  }
 ],
 "metadata": {
  "kernelspec": {
   "display_name": "Python 3",
   "language": "python",
   "name": "python3"
  },
  "language_info": {
   "codemirror_mode": {
    "name": "ipython",
    "version": 3
   },
   "file_extension": ".py",
   "mimetype": "text/x-python",
   "name": "python",
   "nbconvert_exporter": "python",
   "pygments_lexer": "ipython3",
   "version": "3.7.3"
  }
 },
 "nbformat": 4,
 "nbformat_minor": 4
}
